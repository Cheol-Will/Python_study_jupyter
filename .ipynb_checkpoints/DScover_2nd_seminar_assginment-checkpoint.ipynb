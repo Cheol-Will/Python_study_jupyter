{
 "cells": [
  {
   "cell_type": "code",
   "execution_count": 1,
   "metadata": {},
   "outputs": [],
   "source": [
    "import numpy as np\n",
    "import pandas as pd\n",
    "import matplotlib.pyplot as plt"
   ]
  },
  {
   "cell_type": "markdown",
   "metadata": {},
   "source": [
    "## 실습 문제 1"
   ]
  },
  {
   "cell_type": "code",
   "execution_count": 2,
   "metadata": {},
   "outputs": [
    {
     "data": {
      "image/png": "[encoded data removed]",
      "text/plain": [
       "<Figure size 576x360 with 6 Axes>"
      ]
     },
     "metadata": {},
     "output_type": "display_data"
    }
   ],
   "source": [
    "fig = plt.figure(figsize=(8, 5))\n",
    "\n",
    "s = fig.add_gridspec(3, 4)\n",
    "s\n",
    "\n",
    "ax = [None for i in range(6)]\n",
    "ax[0] = fig.add_subplot(s[0, :]) \n",
    "ax[0].set_title('ax[0]')\n",
    "ax[1] = fig.add_subplot(s[1, -4])\n",
    "ax[1].set_title('ax[1]')\n",
    "ax[2] = fig.add_subplot(s[1, -3]) \n",
    "ax[2].set_title('ax[2]')\n",
    "ax[3] = fig.add_subplot(s[1, -2]) \n",
    "ax[3].set_title('ax[3]')\n",
    "ax[4] = fig.add_subplot(s[1:, -1]) \n",
    "ax[4].set_title('ax[4]')\n",
    "ax[5] = fig.add_subplot(s[2, :-1]) \n",
    "ax[5].set_title('ax[5]')\n",
    "\n",
    "for ix in range(6):\n",
    "    ax[ix].set_xticks([])\n",
    "    ax[ix].set_yticks([])\n",
    "    \n",
    "plt.tight_layout()\n",
    "plt.show()"
   ]
  },
  {
   "cell_type": "markdown",
   "metadata": {},
   "source": [
    "## 실습 문제 2 <span  font-size= 3px;>corona_virus 데이터를 가지고 유의미한 시각화를 하시오.</span>\n"
   ]
  },
  {
   "cell_type": "code",
   "execution_count": 3,
   "metadata": {},
   "outputs": [],
   "source": [
    "covid_19 = pd.read_csv(\"./DScover_2nd_seminar_data_set/covid_19_data.csv\", parse_dates=['ObservationDate'])"
   ]
  },
  {
   "cell_type": "markdown",
   "metadata": {},
   "source": [
    "#### 날짜별 누적 확진자"
   ]
  },
  {
   "cell_type": "code",
   "execution_count": 5,
   "metadata": {
    "scrolled": false
   },
   "outputs": [
    {
     "data": {
      "text/html": [
       "<div>\n",
       "<style scoped>\n",
       "    .dataframe tbody tr th:only-of-type {\n",
       "        vertical-align: middle;\n",
       "    }\n",
       "\n",
       "    .dataframe tbody tr th {\n",
       "        vertical-align: top;\n",
       "    }\n",
       "\n",
       "    .dataframe thead th {\n",
       "        text-align: right;\n",
       "    }\n",
       "</style>\n",
       "<table border=\"1\" class=\"dataframe\">\n",
       "  <thead>\n",
       "    <tr style=\"text-align: right;\">\n",
       "      <th></th>\n",
       "      <th>SNo</th>\n",
       "      <th>Confirmed</th>\n",
       "      <th>Deaths</th>\n",
       "      <th>Recovered</th>\n",
       "    </tr>\n",
       "    <tr>\n",
       "      <th>ObservationDate</th>\n",
       "      <th></th>\n",
       "      <th></th>\n",
       "      <th></th>\n",
       "      <th></th>\n",
       "    </tr>\n",
       "  </thead>\n",
       "  <tbody>\n",
       "    <tr>\n",
       "      <th>2020-01-22</th>\n",
       "      <td>741</td>\n",
       "      <td>557.0</td>\n",
       "      <td>17.0</td>\n",
       "      <td>30.0</td>\n",
       "    </tr>\n",
       "    <tr>\n",
       "      <th>2020-01-23</th>\n",
       "      <td>2829</td>\n",
       "      <td>1097.0</td>\n",
       "      <td>34.0</td>\n",
       "      <td>60.0</td>\n",
       "    </tr>\n",
       "    <tr>\n",
       "      <th>2020-01-24</th>\n",
       "      <td>4305</td>\n",
       "      <td>941.0</td>\n",
       "      <td>26.0</td>\n",
       "      <td>39.0</td>\n",
       "    </tr>\n",
       "    <tr>\n",
       "      <th>2020-01-25</th>\n",
       "      <td>6490</td>\n",
       "      <td>1437.0</td>\n",
       "      <td>42.0</td>\n",
       "      <td>42.0</td>\n",
       "    </tr>\n",
       "    <tr>\n",
       "      <th>2020-01-26</th>\n",
       "      <td>9071</td>\n",
       "      <td>2118.0</td>\n",
       "      <td>56.0</td>\n",
       "      <td>56.0</td>\n",
       "    </tr>\n",
       "    <tr>\n",
       "      <th>...</th>\n",
       "      <td>...</td>\n",
       "      <td>...</td>\n",
       "      <td>...</td>\n",
       "      <td>...</td>\n",
       "    </tr>\n",
       "    <tr>\n",
       "      <th>2021-02-23</th>\n",
       "      <td>177690738</td>\n",
       "      <td>112109754.0</td>\n",
       "      <td>2485434.0</td>\n",
       "      <td>63295144.0</td>\n",
       "    </tr>\n",
       "    <tr>\n",
       "      <th>2021-02-24</th>\n",
       "      <td>178274434</td>\n",
       "      <td>112554301.0</td>\n",
       "      <td>2497488.0</td>\n",
       "      <td>63504603.0</td>\n",
       "    </tr>\n",
       "    <tr>\n",
       "      <th>2021-02-25</th>\n",
       "      <td>178858130</td>\n",
       "      <td>113001412.0</td>\n",
       "      <td>2507624.0</td>\n",
       "      <td>63732295.0</td>\n",
       "    </tr>\n",
       "    <tr>\n",
       "      <th>2021-02-26</th>\n",
       "      <td>179441826</td>\n",
       "      <td>113415604.0</td>\n",
       "      <td>2517422.0</td>\n",
       "      <td>63992563.0</td>\n",
       "    </tr>\n",
       "    <tr>\n",
       "      <th>2021-02-27</th>\n",
       "      <td>180025522</td>\n",
       "      <td>113784735.0</td>\n",
       "      <td>2525401.0</td>\n",
       "      <td>64243285.0</td>\n",
       "    </tr>\n",
       "  </tbody>\n",
       "</table>\n",
       "<p>403 rows × 4 columns</p>\n",
       "</div>"
      ],
      "text/plain": [
       "                       SNo    Confirmed     Deaths   Recovered\n",
       "ObservationDate                                               \n",
       "2020-01-22             741        557.0       17.0        30.0\n",
       "2020-01-23            2829       1097.0       34.0        60.0\n",
       "2020-01-24            4305        941.0       26.0        39.0\n",
       "2020-01-25            6490       1437.0       42.0        42.0\n",
       "2020-01-26            9071       2118.0       56.0        56.0\n",
       "...                    ...          ...        ...         ...\n",
       "2021-02-23       177690738  112109754.0  2485434.0  63295144.0\n",
       "2021-02-24       178274434  112554301.0  2497488.0  63504603.0\n",
       "2021-02-25       178858130  113001412.0  2507624.0  63732295.0\n",
       "2021-02-26       179441826  113415604.0  2517422.0  63992563.0\n",
       "2021-02-27       180025522  113784735.0  2525401.0  64243285.0\n",
       "\n",
       "[403 rows x 4 columns]"
      ]
     },
     "execution_count": 5,
     "metadata": {},
     "output_type": "execute_result"
    }
   ],
   "source": [
    "covid_19_date = covid_19.groupby(\"ObservationDate\").sum()\n",
    "covid_19_date"
   ]
  },
  {
   "cell_type": "code",
   "execution_count": 6,
   "metadata": {},
   "outputs": [
    {
     "data": {
      "text/plain": [
       "(array([737485., 737546., 737607., 737669., 737730., 737791., 737850.]),\n",
       " <a list of 7 Text major ticklabel objects>)"
      ]
     },
     "execution_count": 6,
     "metadata": {},
     "output_type": "execute_result"
    },
    {
     "data": {
      "image/png": "[encoded data removed]",
      "text/plain": [
       "<Figure size 432x288 with 1 Axes>"
      ]
     },
     "metadata": {
      "needs_background": "light"
     },
     "output_type": "display_data"
    }
   ],
   "source": [
    "plt.bar(covid_19_date.index[:],covid_19_date[\"Confirmed\"][:])\n",
    "plt.xticks(rotation = 90)"
   ]
  },
  {
   "cell_type": "code",
   "execution_count": 7,
   "metadata": {},
   "outputs": [
    {
     "data": {
      "text/plain": [
       "(array([737445., 737449., 737453., 737456., 737460., 737464., 737468.,\n",
       "        737472., 737476.]),\n",
       " <a list of 9 Text major ticklabel objects>)"
      ]
     },
     "execution_count": 7,
     "metadata": {},
     "output_type": "execute_result"
    },
    {
     "data": {
      "image/png": "[encoded data removed]",
      "text/plain": [
       "<Figure size 432x288 with 1 Axes>"
      ]
     },
     "metadata": {
      "needs_background": "light"
     },
     "output_type": "display_data"
    }
   ],
   "source": [
    "plt.bar(covid_19_date.index[:30],covid_19_date[\"Confirmed\"][:30])\n",
    "plt.xticks(rotation = 90)"
   ]
  },
  {
   "cell_type": "code",
   "execution_count": 8,
   "metadata": {
    "scrolled": false
   },
   "outputs": [
    {
     "data": {
      "text/plain": [
       "(array([737476., 737480., 737484., 737485., 737489., 737493., 737497.,\n",
       "        737501., 737505.]),\n",
       " <a list of 9 Text major ticklabel objects>)"
      ]
     },
     "execution_count": 8,
     "metadata": {},
     "output_type": "execute_result"
    },
    {
     "data": {
      "image/png": "[encoded data removed]",
      "text/plain": [
       "<Figure size 432x288 with 1 Axes>"
      ]
     },
     "metadata": {
      "needs_background": "light"
     },
     "output_type": "display_data"
    }
   ],
   "source": [
    "plt.bar(covid_19_date.index[30:60],covid_19_date[\"Confirmed\"][30:60])\n",
    "plt.xticks(rotation = 90)"
   ]
  },
  {
   "cell_type": "markdown",
   "metadata": {},
   "source": [
    "#### 날짜별 누적 완치자"
   ]
  },
  {
   "cell_type": "code",
   "execution_count": 9,
   "metadata": {},
   "outputs": [
    {
     "data": {
      "text/plain": [
       "(array([737485., 737546., 737607., 737669., 737730., 737791., 737850.]),\n",
       " <a list of 7 Text major ticklabel objects>)"
      ]
     },
     "execution_count": 9,
     "metadata": {},
     "output_type": "execute_result"
    },
    {
     "data": {
      "image/png": "[encoded data removed]",
      "text/plain": [
       "<Figure size 432x288 with 1 Axes>"
      ]
     },
     "metadata": {
      "needs_background": "light"
     },
     "output_type": "display_data"
    }
   ],
   "source": [
    "plt.bar(covid_19_date.index[:],covid_19_date[\"Recovered\"][:])\n",
    "plt.xticks(rotation = 90)"
   ]
  },
  {
   "cell_type": "code",
   "execution_count": 10,
   "metadata": {},
   "outputs": [
    {
     "data": {
      "text/plain": [
       "(array([737445., 737449., 737453., 737456., 737460., 737464., 737468.,\n",
       "        737472., 737476.]),\n",
       " <a list of 9 Text major ticklabel objects>)"
      ]
     },
     "execution_count": 10,
     "metadata": {},
     "output_type": "execute_result"
    },
    {
     "data": {
      "image/png": "[encoded data removed]",
      "text/plain": [
       "<Figure size 432x288 with 1 Axes>"
      ]
     },
     "metadata": {
      "needs_background": "light"
     },
     "output_type": "display_data"
    }
   ],
   "source": [
    "plt.bar(covid_19_date.index[:30],covid_19_date[\"Recovered\"][:30])\n",
    "plt.xticks(rotation = 90)"
   ]
  },
  {
   "cell_type": "code",
   "execution_count": 11,
   "metadata": {
    "scrolled": false
   },
   "outputs": [
    {
     "data": {
      "text/plain": [
       "(array([737476., 737480., 737484., 737485., 737489., 737493., 737497.,\n",
       "        737501., 737505.]),\n",
       " <a list of 9 Text major ticklabel objects>)"
      ]
     },
     "execution_count": 11,
     "metadata": {},
     "output_type": "execute_result"
    },
    {
     "data": {
      "image/png": "[encoded data removed]",
      "text/plain": [
       "<Figure size 432x288 with 1 Axes>"
      ]
     },
     "metadata": {
      "needs_background": "light"
     },
     "output_type": "display_data"
    }
   ],
   "source": [
    "plt.bar(covid_19_date.index[30:60],covid_19_date[\"Recovered\"][30:60])\n",
    "plt.xticks(rotation = 90)"
   ]
  },
  {
   "cell_type": "code",
   "execution_count": 12,
   "metadata": {},
   "outputs": [
    {
     "data": {
      "text/html": [
       "<div>\n",
       "<style scoped>\n",
       "    .dataframe tbody tr th:only-of-type {\n",
       "        vertical-align: middle;\n",
       "    }\n",
       "\n",
       "    .dataframe tbody tr th {\n",
       "        vertical-align: top;\n",
       "    }\n",
       "\n",
       "    .dataframe thead th {\n",
       "        text-align: right;\n",
       "    }\n",
       "</style>\n",
       "<table border=\"1\" class=\"dataframe\">\n",
       "  <thead>\n",
       "    <tr style=\"text-align: right;\">\n",
       "      <th></th>\n",
       "      <th>Confirmed</th>\n",
       "      <th>Deaths</th>\n",
       "      <th>Recovered</th>\n",
       "    </tr>\n",
       "    <tr>\n",
       "      <th>Country/Region</th>\n",
       "      <th></th>\n",
       "      <th></th>\n",
       "      <th></th>\n",
       "    </tr>\n",
       "  </thead>\n",
       "  <tbody>\n",
       "    <tr>\n",
       "      <th>Azerbaijan</th>\n",
       "      <td>1.0</td>\n",
       "      <td>0.0</td>\n",
       "      <td>0.0</td>\n",
       "    </tr>\n",
       "    <tr>\n",
       "      <th>('St. Martin',)</th>\n",
       "      <td>2.0</td>\n",
       "      <td>0.0</td>\n",
       "      <td>0.0</td>\n",
       "    </tr>\n",
       "    <tr>\n",
       "      <th>Afghanistan</th>\n",
       "      <td>55707.0</td>\n",
       "      <td>2443.0</td>\n",
       "      <td>49288.0</td>\n",
       "    </tr>\n",
       "    <tr>\n",
       "      <th>Albania</th>\n",
       "      <td>106215.0</td>\n",
       "      <td>1775.0</td>\n",
       "      <td>68969.0</td>\n",
       "    </tr>\n",
       "    <tr>\n",
       "      <th>Algeria</th>\n",
       "      <td>112960.0</td>\n",
       "      <td>2979.0</td>\n",
       "      <td>77976.0</td>\n",
       "    </tr>\n",
       "    <tr>\n",
       "      <th>...</th>\n",
       "      <td>...</td>\n",
       "      <td>...</td>\n",
       "      <td>...</td>\n",
       "    </tr>\n",
       "    <tr>\n",
       "      <th>West Bank and Gaza</th>\n",
       "      <td>181909.0</td>\n",
       "      <td>2025.0</td>\n",
       "      <td>166119.0</td>\n",
       "    </tr>\n",
       "    <tr>\n",
       "      <th>Yemen</th>\n",
       "      <td>2269.0</td>\n",
       "      <td>631.0</td>\n",
       "      <td>1435.0</td>\n",
       "    </tr>\n",
       "    <tr>\n",
       "      <th>Zambia</th>\n",
       "      <td>78202.0</td>\n",
       "      <td>1081.0</td>\n",
       "      <td>73609.0</td>\n",
       "    </tr>\n",
       "    <tr>\n",
       "      <th>Zimbabwe</th>\n",
       "      <td>36058.0</td>\n",
       "      <td>1463.0</td>\n",
       "      <td>32590.0</td>\n",
       "    </tr>\n",
       "    <tr>\n",
       "      <th>occupied Palestinian territory</th>\n",
       "      <td>25.0</td>\n",
       "      <td>0.0</td>\n",
       "      <td>0.0</td>\n",
       "    </tr>\n",
       "  </tbody>\n",
       "</table>\n",
       "<p>227 rows × 3 columns</p>\n",
       "</div>"
      ],
      "text/plain": [
       "                                Confirmed  Deaths  Recovered\n",
       "Country/Region                                              \n",
       " Azerbaijan                           1.0     0.0        0.0\n",
       "('St. Martin',)                       2.0     0.0        0.0\n",
       "Afghanistan                       55707.0  2443.0    49288.0\n",
       "Albania                          106215.0  1775.0    68969.0\n",
       "Algeria                          112960.0  2979.0    77976.0\n",
       "...                                   ...     ...        ...\n",
       "West Bank and Gaza               181909.0  2025.0   166119.0\n",
       "Yemen                              2269.0   631.0     1435.0\n",
       "Zambia                            78202.0  1081.0    73609.0\n",
       "Zimbabwe                          36058.0  1463.0    32590.0\n",
       "occupied Palestinian territory       25.0     0.0        0.0\n",
       "\n",
       "[227 rows x 3 columns]"
      ]
     },
     "execution_count": 12,
     "metadata": {},
     "output_type": "execute_result"
    }
   ],
   "source": [
    "covid_country = covid_19.drop(['SNo', 'ObservationDate', 'Last Update', \"Province/State\"], axis = 1).groupby(\"Country/Region\").max()\n",
    "covid_country"
   ]
  },
  {
   "cell_type": "code",
   "execution_count": 13,
   "metadata": {},
   "outputs": [
    {
     "data": {
      "text/html": [
       "<div>\n",
       "<style scoped>\n",
       "    .dataframe tbody tr th:only-of-type {\n",
       "        vertical-align: middle;\n",
       "    }\n",
       "\n",
       "    .dataframe tbody tr th {\n",
       "        vertical-align: top;\n",
       "    }\n",
       "\n",
       "    .dataframe thead th {\n",
       "        text-align: right;\n",
       "    }\n",
       "</style>\n",
       "<table border=\"1\" class=\"dataframe\">\n",
       "  <thead>\n",
       "    <tr style=\"text-align: right;\">\n",
       "      <th></th>\n",
       "      <th>Confirmed</th>\n",
       "      <th>Deaths</th>\n",
       "      <th>Recovered</th>\n",
       "    </tr>\n",
       "    <tr>\n",
       "      <th>Country/Region</th>\n",
       "      <th></th>\n",
       "      <th></th>\n",
       "      <th></th>\n",
       "    </tr>\n",
       "  </thead>\n",
       "  <tbody>\n",
       "    <tr>\n",
       "      <th>France</th>\n",
       "      <td>3664050.0</td>\n",
       "      <td>85141.0</td>\n",
       "      <td>228299.0</td>\n",
       "    </tr>\n",
       "    <tr>\n",
       "      <th>UK</th>\n",
       "      <td>3653272.0</td>\n",
       "      <td>108208.0</td>\n",
       "      <td>4122.0</td>\n",
       "    </tr>\n",
       "    <tr>\n",
       "      <th>US</th>\n",
       "      <td>3563578.0</td>\n",
       "      <td>51953.0</td>\n",
       "      <td>6399531.0</td>\n",
       "    </tr>\n",
       "    <tr>\n",
       "      <th>Turkey</th>\n",
       "      <td>2693164.0</td>\n",
       "      <td>28503.0</td>\n",
       "      <td>2565723.0</td>\n",
       "    </tr>\n",
       "    <tr>\n",
       "      <th>India</th>\n",
       "      <td>2146777.0</td>\n",
       "      <td>52092.0</td>\n",
       "      <td>2020951.0</td>\n",
       "    </tr>\n",
       "    <tr>\n",
       "      <th>...</th>\n",
       "      <td>...</td>\n",
       "      <td>...</td>\n",
       "      <td>...</td>\n",
       "    </tr>\n",
       "    <tr>\n",
       "      <th>The Bahamas</th>\n",
       "      <td>1.0</td>\n",
       "      <td>0.0</td>\n",
       "      <td>0.0</td>\n",
       "    </tr>\n",
       "    <tr>\n",
       "      <th>Micronesia</th>\n",
       "      <td>1.0</td>\n",
       "      <td>0.0</td>\n",
       "      <td>1.0</td>\n",
       "    </tr>\n",
       "    <tr>\n",
       "      <th>North Ireland</th>\n",
       "      <td>1.0</td>\n",
       "      <td>0.0</td>\n",
       "      <td>0.0</td>\n",
       "    </tr>\n",
       "    <tr>\n",
       "      <th>Republic of the Congo</th>\n",
       "      <td>1.0</td>\n",
       "      <td>0.0</td>\n",
       "      <td>0.0</td>\n",
       "    </tr>\n",
       "    <tr>\n",
       "      <th>Azerbaijan</th>\n",
       "      <td>1.0</td>\n",
       "      <td>0.0</td>\n",
       "      <td>0.0</td>\n",
       "    </tr>\n",
       "  </tbody>\n",
       "</table>\n",
       "<p>227 rows × 3 columns</p>\n",
       "</div>"
      ],
      "text/plain": [
       "                       Confirmed    Deaths  Recovered\n",
       "Country/Region                                       \n",
       "France                 3664050.0   85141.0   228299.0\n",
       "UK                     3653272.0  108208.0     4122.0\n",
       "US                     3563578.0   51953.0  6399531.0\n",
       "Turkey                 2693164.0   28503.0  2565723.0\n",
       "India                  2146777.0   52092.0  2020951.0\n",
       "...                          ...       ...        ...\n",
       "The Bahamas                  1.0       0.0        0.0\n",
       "Micronesia                   1.0       0.0        1.0\n",
       "North Ireland                1.0       0.0        0.0\n",
       "Republic of the Congo        1.0       0.0        0.0\n",
       " Azerbaijan                  1.0       0.0        0.0\n",
       "\n",
       "[227 rows x 3 columns]"
      ]
     },
     "execution_count": 13,
     "metadata": {},
     "output_type": "execute_result"
    }
   ],
   "source": [
    "covid_country.sort_values(\"Confirmed\", ascending = False)"
   ]
  },
  {
   "cell_type": "code",
   "execution_count": 14,
   "metadata": {},
   "outputs": [
    {
     "data": {
      "text/html": [
       "<div>\n",
       "<style scoped>\n",
       "    .dataframe tbody tr th:only-of-type {\n",
       "        vertical-align: middle;\n",
       "    }\n",
       "\n",
       "    .dataframe tbody tr th {\n",
       "        vertical-align: top;\n",
       "    }\n",
       "\n",
       "    .dataframe thead th {\n",
       "        text-align: right;\n",
       "    }\n",
       "</style>\n",
       "<table border=\"1\" class=\"dataframe\">\n",
       "  <thead>\n",
       "    <tr style=\"text-align: right;\">\n",
       "      <th></th>\n",
       "      <th>Confirmed</th>\n",
       "      <th>Deaths</th>\n",
       "      <th>Recovered</th>\n",
       "    </tr>\n",
       "    <tr>\n",
       "      <th>Country/Region</th>\n",
       "      <th></th>\n",
       "      <th></th>\n",
       "      <th></th>\n",
       "    </tr>\n",
       "  </thead>\n",
       "  <tbody>\n",
       "    <tr>\n",
       "      <th>UK</th>\n",
       "      <td>3653272.0</td>\n",
       "      <td>108208.0</td>\n",
       "      <td>4122.0</td>\n",
       "    </tr>\n",
       "    <tr>\n",
       "      <th>France</th>\n",
       "      <td>3664050.0</td>\n",
       "      <td>85141.0</td>\n",
       "      <td>228299.0</td>\n",
       "    </tr>\n",
       "    <tr>\n",
       "      <th>Iran</th>\n",
       "      <td>1623159.0</td>\n",
       "      <td>59980.0</td>\n",
       "      <td>1386534.0</td>\n",
       "    </tr>\n",
       "    <tr>\n",
       "      <th>Brazil</th>\n",
       "      <td>2037267.0</td>\n",
       "      <td>59428.0</td>\n",
       "      <td>1805549.0</td>\n",
       "    </tr>\n",
       "    <tr>\n",
       "      <th>India</th>\n",
       "      <td>2146777.0</td>\n",
       "      <td>52092.0</td>\n",
       "      <td>2020951.0</td>\n",
       "    </tr>\n",
       "    <tr>\n",
       "      <th>...</th>\n",
       "      <td>...</td>\n",
       "      <td>...</td>\n",
       "      <td>...</td>\n",
       "    </tr>\n",
       "    <tr>\n",
       "      <th>Marshall Islands</th>\n",
       "      <td>4.0</td>\n",
       "      <td>0.0</td>\n",
       "      <td>4.0</td>\n",
       "    </tr>\n",
       "    <tr>\n",
       "      <th>Macau</th>\n",
       "      <td>48.0</td>\n",
       "      <td>0.0</td>\n",
       "      <td>47.0</td>\n",
       "    </tr>\n",
       "    <tr>\n",
       "      <th>('St. Martin',)</th>\n",
       "      <td>2.0</td>\n",
       "      <td>0.0</td>\n",
       "      <td>0.0</td>\n",
       "    </tr>\n",
       "    <tr>\n",
       "      <th>Laos</th>\n",
       "      <td>45.0</td>\n",
       "      <td>0.0</td>\n",
       "      <td>42.0</td>\n",
       "    </tr>\n",
       "    <tr>\n",
       "      <th>occupied Palestinian territory</th>\n",
       "      <td>25.0</td>\n",
       "      <td>0.0</td>\n",
       "      <td>0.0</td>\n",
       "    </tr>\n",
       "  </tbody>\n",
       "</table>\n",
       "<p>227 rows × 3 columns</p>\n",
       "</div>"
      ],
      "text/plain": [
       "                                Confirmed    Deaths  Recovered\n",
       "Country/Region                                                \n",
       "UK                              3653272.0  108208.0     4122.0\n",
       "France                          3664050.0   85141.0   228299.0\n",
       "Iran                            1623159.0   59980.0  1386534.0\n",
       "Brazil                          2037267.0   59428.0  1805549.0\n",
       "India                           2146777.0   52092.0  2020951.0\n",
       "...                                   ...       ...        ...\n",
       "Marshall Islands                      4.0       0.0        4.0\n",
       "Macau                                48.0       0.0       47.0\n",
       "('St. Martin',)                       2.0       0.0        0.0\n",
       "Laos                                 45.0       0.0       42.0\n",
       "occupied Palestinian territory       25.0       0.0        0.0\n",
       "\n",
       "[227 rows x 3 columns]"
      ]
     },
     "execution_count": 14,
     "metadata": {},
     "output_type": "execute_result"
    }
   ],
   "source": [
    "covid_country.sort_values(\"Deaths\", ascending = False)"
   ]
  },
  {
   "cell_type": "code",
   "execution_count": 15,
   "metadata": {},
   "outputs": [
    {
     "data": {
      "text/html": [
       "<div>\n",
       "<style scoped>\n",
       "    .dataframe tbody tr th:only-of-type {\n",
       "        vertical-align: middle;\n",
       "    }\n",
       "\n",
       "    .dataframe tbody tr th {\n",
       "        vertical-align: top;\n",
       "    }\n",
       "\n",
       "    .dataframe thead th {\n",
       "        text-align: right;\n",
       "    }\n",
       "</style>\n",
       "<table border=\"1\" class=\"dataframe\">\n",
       "  <thead>\n",
       "    <tr style=\"text-align: right;\">\n",
       "      <th></th>\n",
       "      <th>Confirmed</th>\n",
       "      <th>Deaths</th>\n",
       "      <th>Recovered</th>\n",
       "    </tr>\n",
       "    <tr>\n",
       "      <th>Country/Region</th>\n",
       "      <th></th>\n",
       "      <th></th>\n",
       "      <th></th>\n",
       "    </tr>\n",
       "  </thead>\n",
       "  <tbody>\n",
       "    <tr>\n",
       "      <th>US</th>\n",
       "      <td>3563578.0</td>\n",
       "      <td>51953.0</td>\n",
       "      <td>6399531.0</td>\n",
       "    </tr>\n",
       "    <tr>\n",
       "      <th>Turkey</th>\n",
       "      <td>2693164.0</td>\n",
       "      <td>28503.0</td>\n",
       "      <td>2565723.0</td>\n",
       "    </tr>\n",
       "    <tr>\n",
       "      <th>India</th>\n",
       "      <td>2146777.0</td>\n",
       "      <td>52092.0</td>\n",
       "      <td>2020951.0</td>\n",
       "    </tr>\n",
       "    <tr>\n",
       "      <th>Argentina</th>\n",
       "      <td>2104197.0</td>\n",
       "      <td>51946.0</td>\n",
       "      <td>1899087.0</td>\n",
       "    </tr>\n",
       "    <tr>\n",
       "      <th>Brazil</th>\n",
       "      <td>2037267.0</td>\n",
       "      <td>59428.0</td>\n",
       "      <td>1805549.0</td>\n",
       "    </tr>\n",
       "    <tr>\n",
       "      <th>...</th>\n",
       "      <td>...</td>\n",
       "      <td>...</td>\n",
       "      <td>...</td>\n",
       "    </tr>\n",
       "    <tr>\n",
       "      <th>Puerto Rico</th>\n",
       "      <td>3.0</td>\n",
       "      <td>0.0</td>\n",
       "      <td>0.0</td>\n",
       "    </tr>\n",
       "    <tr>\n",
       "      <th>Republic of Ireland</th>\n",
       "      <td>21.0</td>\n",
       "      <td>0.0</td>\n",
       "      <td>0.0</td>\n",
       "    </tr>\n",
       "    <tr>\n",
       "      <th>Republic of the Congo</th>\n",
       "      <td>1.0</td>\n",
       "      <td>0.0</td>\n",
       "      <td>0.0</td>\n",
       "    </tr>\n",
       "    <tr>\n",
       "      <th>Reunion</th>\n",
       "      <td>45.0</td>\n",
       "      <td>0.0</td>\n",
       "      <td>0.0</td>\n",
       "    </tr>\n",
       "    <tr>\n",
       "      <th>occupied Palestinian territory</th>\n",
       "      <td>25.0</td>\n",
       "      <td>0.0</td>\n",
       "      <td>0.0</td>\n",
       "    </tr>\n",
       "  </tbody>\n",
       "</table>\n",
       "<p>227 rows × 3 columns</p>\n",
       "</div>"
      ],
      "text/plain": [
       "                                Confirmed   Deaths  Recovered\n",
       "Country/Region                                               \n",
       "US                              3563578.0  51953.0  6399531.0\n",
       "Turkey                          2693164.0  28503.0  2565723.0\n",
       "India                           2146777.0  52092.0  2020951.0\n",
       "Argentina                       2104197.0  51946.0  1899087.0\n",
       "Brazil                          2037267.0  59428.0  1805549.0\n",
       "...                                   ...      ...        ...\n",
       "Puerto Rico                           3.0      0.0        0.0\n",
       "Republic of Ireland                  21.0      0.0        0.0\n",
       "Republic of the Congo                 1.0      0.0        0.0\n",
       "Reunion                              45.0      0.0        0.0\n",
       "occupied Palestinian territory       25.0      0.0        0.0\n",
       "\n",
       "[227 rows x 3 columns]"
      ]
     },
     "execution_count": 15,
     "metadata": {},
     "output_type": "execute_result"
    }
   ],
   "source": [
    "covid_country.sort_values(\"Recovered\", ascending = False)"
   ]
  },
  {
   "cell_type": "code",
   "execution_count": 16,
   "metadata": {
    "scrolled": false
   },
   "outputs": [
    {
     "data": {
      "text/html": [
       "<div>\n",
       "<style scoped>\n",
       "    .dataframe tbody tr th:only-of-type {\n",
       "        vertical-align: middle;\n",
       "    }\n",
       "\n",
       "    .dataframe tbody tr th {\n",
       "        vertical-align: top;\n",
       "    }\n",
       "\n",
       "    .dataframe thead th {\n",
       "        text-align: right;\n",
       "    }\n",
       "</style>\n",
       "<table border=\"1\" class=\"dataframe\">\n",
       "  <thead>\n",
       "    <tr style=\"text-align: right;\">\n",
       "      <th></th>\n",
       "      <th>Confirmed</th>\n",
       "      <th>Deaths</th>\n",
       "      <th>Recovered</th>\n",
       "    </tr>\n",
       "    <tr>\n",
       "      <th>Province/State</th>\n",
       "      <th></th>\n",
       "      <th></th>\n",
       "      <th></th>\n",
       "    </tr>\n",
       "  </thead>\n",
       "  <tbody>\n",
       "    <tr>\n",
       "      <th>England</th>\n",
       "      <td>3653272.0</td>\n",
       "      <td>108208.0</td>\n",
       "      <td>0.0</td>\n",
       "    </tr>\n",
       "    <tr>\n",
       "      <th>California</th>\n",
       "      <td>3563578.0</td>\n",
       "      <td>51953.0</td>\n",
       "      <td>6.0</td>\n",
       "    </tr>\n",
       "    <tr>\n",
       "      <th>Texas</th>\n",
       "      <td>2649363.0</td>\n",
       "      <td>43519.0</td>\n",
       "      <td>0.0</td>\n",
       "    </tr>\n",
       "    <tr>\n",
       "      <th>Maharashtra</th>\n",
       "      <td>2146777.0</td>\n",
       "      <td>52092.0</td>\n",
       "      <td>2020951.0</td>\n",
       "    </tr>\n",
       "    <tr>\n",
       "      <th>Sao Paulo</th>\n",
       "      <td>2037267.0</td>\n",
       "      <td>59428.0</td>\n",
       "      <td>1805549.0</td>\n",
       "    </tr>\n",
       "    <tr>\n",
       "      <th>...</th>\n",
       "      <td>...</td>\n",
       "      <td>...</td>\n",
       "      <td>...</td>\n",
       "    </tr>\n",
       "    <tr>\n",
       "      <th>American Samoa</th>\n",
       "      <td>0.0</td>\n",
       "      <td>0.0</td>\n",
       "      <td>0.0</td>\n",
       "    </tr>\n",
       "    <tr>\n",
       "      <th>Recovered</th>\n",
       "      <td>0.0</td>\n",
       "      <td>0.0</td>\n",
       "      <td>6399531.0</td>\n",
       "    </tr>\n",
       "    <tr>\n",
       "      <th>Montgomery County, TX</th>\n",
       "      <td>0.0</td>\n",
       "      <td>0.0</td>\n",
       "      <td>0.0</td>\n",
       "    </tr>\n",
       "    <tr>\n",
       "      <th>Jervis Bay Territory</th>\n",
       "      <td>0.0</td>\n",
       "      <td>0.0</td>\n",
       "      <td>0.0</td>\n",
       "    </tr>\n",
       "    <tr>\n",
       "      <th>External territories</th>\n",
       "      <td>0.0</td>\n",
       "      <td>0.0</td>\n",
       "      <td>0.0</td>\n",
       "    </tr>\n",
       "  </tbody>\n",
       "</table>\n",
       "<p>737 rows × 3 columns</p>\n",
       "</div>"
      ],
      "text/plain": [
       "                       Confirmed    Deaths  Recovered\n",
       "Province/State                                       \n",
       "England                3653272.0  108208.0        0.0\n",
       "California             3563578.0   51953.0        6.0\n",
       "Texas                  2649363.0   43519.0        0.0\n",
       "Maharashtra            2146777.0   52092.0  2020951.0\n",
       "Sao Paulo              2037267.0   59428.0  1805549.0\n",
       "...                          ...       ...        ...\n",
       "American Samoa               0.0       0.0        0.0\n",
       "Recovered                    0.0       0.0  6399531.0\n",
       "Montgomery County, TX        0.0       0.0        0.0\n",
       "Jervis Bay Territory         0.0       0.0        0.0\n",
       "External territories         0.0       0.0        0.0\n",
       "\n",
       "[737 rows x 3 columns]"
      ]
     },
     "execution_count": 16,
     "metadata": {},
     "output_type": "execute_result"
    }
   ],
   "source": [
    "covid_province = covid_19.groupby(\"Province/State\").max().drop([\"SNo\", \"ObservationDate\", \"Country/Region\", \"Last Update\"], axis = 1)\n",
    "covid_province.sort_values(\"Confirmed\", ascending=False)"
   ]
  },
  {
   "cell_type": "code",
   "execution_count": 17,
   "metadata": {
    "scrolled": false
   },
   "outputs": [
    {
     "data": {
      "text/html": [
       "<div>\n",
       "<style scoped>\n",
       "    .dataframe tbody tr th:only-of-type {\n",
       "        vertical-align: middle;\n",
       "    }\n",
       "\n",
       "    .dataframe tbody tr th {\n",
       "        vertical-align: top;\n",
       "    }\n",
       "\n",
       "    .dataframe thead th {\n",
       "        text-align: right;\n",
       "    }\n",
       "</style>\n",
       "<table border=\"1\" class=\"dataframe\">\n",
       "  <thead>\n",
       "    <tr style=\"text-align: right;\">\n",
       "      <th></th>\n",
       "      <th>Confirmed</th>\n",
       "      <th>Deaths</th>\n",
       "      <th>Recovered</th>\n",
       "    </tr>\n",
       "    <tr>\n",
       "      <th>Province/State</th>\n",
       "      <th></th>\n",
       "      <th></th>\n",
       "      <th></th>\n",
       "    </tr>\n",
       "  </thead>\n",
       "  <tbody>\n",
       "    <tr>\n",
       "      <th>England</th>\n",
       "      <td>3653272.0</td>\n",
       "      <td>108208.0</td>\n",
       "      <td>0.0</td>\n",
       "    </tr>\n",
       "    <tr>\n",
       "      <th>Sao Paulo</th>\n",
       "      <td>2037267.0</td>\n",
       "      <td>59428.0</td>\n",
       "      <td>1805549.0</td>\n",
       "    </tr>\n",
       "    <tr>\n",
       "      <th>Maharashtra</th>\n",
       "      <td>2146777.0</td>\n",
       "      <td>52092.0</td>\n",
       "      <td>2020951.0</td>\n",
       "    </tr>\n",
       "    <tr>\n",
       "      <th>California</th>\n",
       "      <td>3563578.0</td>\n",
       "      <td>51953.0</td>\n",
       "      <td>6.0</td>\n",
       "    </tr>\n",
       "    <tr>\n",
       "      <th>New York</th>\n",
       "      <td>1636040.0</td>\n",
       "      <td>47498.0</td>\n",
       "      <td>0.0</td>\n",
       "    </tr>\n",
       "    <tr>\n",
       "      <th>...</th>\n",
       "      <td>...</td>\n",
       "      <td>...</td>\n",
       "      <td>...</td>\n",
       "    </tr>\n",
       "    <tr>\n",
       "      <th>San Antonio, TX</th>\n",
       "      <td>1.0</td>\n",
       "      <td>0.0</td>\n",
       "      <td>0.0</td>\n",
       "    </tr>\n",
       "    <tr>\n",
       "      <th>San Benito, CA</th>\n",
       "      <td>2.0</td>\n",
       "      <td>0.0</td>\n",
       "      <td>0.0</td>\n",
       "    </tr>\n",
       "    <tr>\n",
       "      <th>San Diego County, CA</th>\n",
       "      <td>3.0</td>\n",
       "      <td>0.0</td>\n",
       "      <td>1.0</td>\n",
       "    </tr>\n",
       "    <tr>\n",
       "      <th>San Francisco County, CA</th>\n",
       "      <td>9.0</td>\n",
       "      <td>0.0</td>\n",
       "      <td>0.0</td>\n",
       "    </tr>\n",
       "    <tr>\n",
       "      <th>Montreal, QC</th>\n",
       "      <td>4.0</td>\n",
       "      <td>0.0</td>\n",
       "      <td>0.0</td>\n",
       "    </tr>\n",
       "  </tbody>\n",
       "</table>\n",
       "<p>737 rows × 3 columns</p>\n",
       "</div>"
      ],
      "text/plain": [
       "                          Confirmed    Deaths  Recovered\n",
       "Province/State                                          \n",
       "England                   3653272.0  108208.0        0.0\n",
       "Sao Paulo                 2037267.0   59428.0  1805549.0\n",
       "Maharashtra               2146777.0   52092.0  2020951.0\n",
       "California                3563578.0   51953.0        6.0\n",
       "New York                  1636040.0   47498.0        0.0\n",
       "...                             ...       ...        ...\n",
       "San Antonio, TX                 1.0       0.0        0.0\n",
       "San Benito, CA                  2.0       0.0        0.0\n",
       "San Diego County, CA            3.0       0.0        1.0\n",
       "San Francisco County, CA        9.0       0.0        0.0\n",
       " Montreal, QC                   4.0       0.0        0.0\n",
       "\n",
       "[737 rows x 3 columns]"
      ]
     },
     "execution_count": 17,
     "metadata": {},
     "output_type": "execute_result"
    }
   ],
   "source": [
    "covid_province.sort_values(\"Deaths\", ascending=False)"
   ]
  },
  {
   "cell_type": "code",
   "execution_count": 18,
   "metadata": {},
   "outputs": [
    {
     "data": {
      "text/html": [
       "<div>\n",
       "<style scoped>\n",
       "    .dataframe tbody tr th:only-of-type {\n",
       "        vertical-align: middle;\n",
       "    }\n",
       "\n",
       "    .dataframe tbody tr th {\n",
       "        vertical-align: top;\n",
       "    }\n",
       "\n",
       "    .dataframe thead th {\n",
       "        text-align: right;\n",
       "    }\n",
       "</style>\n",
       "<table border=\"1\" class=\"dataframe\">\n",
       "  <thead>\n",
       "    <tr style=\"text-align: right;\">\n",
       "      <th></th>\n",
       "      <th>Confirmed</th>\n",
       "      <th>Deaths</th>\n",
       "      <th>Recovered</th>\n",
       "    </tr>\n",
       "    <tr>\n",
       "      <th>Province/State</th>\n",
       "      <th></th>\n",
       "      <th></th>\n",
       "      <th></th>\n",
       "    </tr>\n",
       "  </thead>\n",
       "  <tbody>\n",
       "    <tr>\n",
       "      <th>Recovered</th>\n",
       "      <td>0.0</td>\n",
       "      <td>0.0</td>\n",
       "      <td>6399531.0</td>\n",
       "    </tr>\n",
       "    <tr>\n",
       "      <th>Maharashtra</th>\n",
       "      <td>2146777.0</td>\n",
       "      <td>52092.0</td>\n",
       "      <td>2020951.0</td>\n",
       "    </tr>\n",
       "    <tr>\n",
       "      <th>Sao Paulo</th>\n",
       "      <td>2037267.0</td>\n",
       "      <td>59428.0</td>\n",
       "      <td>1805549.0</td>\n",
       "    </tr>\n",
       "    <tr>\n",
       "      <th>Unknown</th>\n",
       "      <td>116237.0</td>\n",
       "      <td>22052.0</td>\n",
       "      <td>1630002.0</td>\n",
       "    </tr>\n",
       "    <tr>\n",
       "      <th>Kerala</th>\n",
       "      <td>1056149.0</td>\n",
       "      <td>4182.0</td>\n",
       "      <td>1001164.0</td>\n",
       "    </tr>\n",
       "    <tr>\n",
       "      <th>...</th>\n",
       "      <td>...</td>\n",
       "      <td>...</td>\n",
       "      <td>...</td>\n",
       "    </tr>\n",
       "    <tr>\n",
       "      <th>Madera County, CA</th>\n",
       "      <td>1.0</td>\n",
       "      <td>0.0</td>\n",
       "      <td>0.0</td>\n",
       "    </tr>\n",
       "    <tr>\n",
       "      <th>Luxembourg</th>\n",
       "      <td>21842.0</td>\n",
       "      <td>0.0</td>\n",
       "      <td>0.0</td>\n",
       "    </tr>\n",
       "    <tr>\n",
       "      <th>Louisiana</th>\n",
       "      <td>428592.0</td>\n",
       "      <td>9587.0</td>\n",
       "      <td>0.0</td>\n",
       "    </tr>\n",
       "    <tr>\n",
       "      <th>Los Angeles, CA</th>\n",
       "      <td>14.0</td>\n",
       "      <td>0.0</td>\n",
       "      <td>0.0</td>\n",
       "    </tr>\n",
       "    <tr>\n",
       "      <th>Zuid-Holland</th>\n",
       "      <td>255335.0</td>\n",
       "      <td>3732.0</td>\n",
       "      <td>0.0</td>\n",
       "    </tr>\n",
       "  </tbody>\n",
       "</table>\n",
       "<p>737 rows × 3 columns</p>\n",
       "</div>"
      ],
      "text/plain": [
       "                   Confirmed   Deaths  Recovered\n",
       "Province/State                                  \n",
       "Recovered                0.0      0.0  6399531.0\n",
       "Maharashtra        2146777.0  52092.0  2020951.0\n",
       "Sao Paulo          2037267.0  59428.0  1805549.0\n",
       "Unknown             116237.0  22052.0  1630002.0\n",
       "Kerala             1056149.0   4182.0  1001164.0\n",
       "...                      ...      ...        ...\n",
       "Madera County, CA        1.0      0.0        0.0\n",
       "Luxembourg           21842.0      0.0        0.0\n",
       "Louisiana           428592.0   9587.0        0.0\n",
       "Los Angeles, CA         14.0      0.0        0.0\n",
       "Zuid-Holland        255335.0   3732.0        0.0\n",
       "\n",
       "[737 rows x 3 columns]"
      ]
     },
     "execution_count": 18,
     "metadata": {},
     "output_type": "execute_result"
    }
   ],
   "source": [
    "covid_province.sort_values(\"Recovered\", ascending=False)"
   ]
  },
  {
   "cell_type": "code",
   "execution_count": 19,
   "metadata": {},
   "outputs": [
    {
     "data": {
      "text/html": [
       "<div>\n",
       "<style scoped>\n",
       "    .dataframe tbody tr th:only-of-type {\n",
       "        vertical-align: middle;\n",
       "    }\n",
       "\n",
       "    .dataframe tbody tr th {\n",
       "        vertical-align: top;\n",
       "    }\n",
       "\n",
       "    .dataframe thead th {\n",
       "        text-align: right;\n",
       "    }\n",
       "</style>\n",
       "<table border=\"1\" class=\"dataframe\">\n",
       "  <thead>\n",
       "    <tr style=\"text-align: right;\">\n",
       "      <th></th>\n",
       "      <th>Confirmed</th>\n",
       "      <th>Deaths</th>\n",
       "      <th>Recovered</th>\n",
       "    </tr>\n",
       "    <tr>\n",
       "      <th>Province/State</th>\n",
       "      <th></th>\n",
       "      <th></th>\n",
       "      <th></th>\n",
       "    </tr>\n",
       "  </thead>\n",
       "  <tbody>\n",
       "    <tr>\n",
       "      <th>Montreal, QC</th>\n",
       "      <td>17.0</td>\n",
       "      <td>0.0</td>\n",
       "      <td>0.0</td>\n",
       "    </tr>\n",
       "    <tr>\n",
       "      <th>Norfolk County, MA</th>\n",
       "      <td>7.0</td>\n",
       "      <td>0.0</td>\n",
       "      <td>0.0</td>\n",
       "    </tr>\n",
       "    <tr>\n",
       "      <th>Abruzzo</th>\n",
       "      <td>4785827.0</td>\n",
       "      <td>217392.0</td>\n",
       "      <td>2939277.0</td>\n",
       "    </tr>\n",
       "    <tr>\n",
       "      <th>Acre</th>\n",
       "      <td>8309580.0</td>\n",
       "      <td>176880.0</td>\n",
       "      <td>6773221.0</td>\n",
       "    </tr>\n",
       "    <tr>\n",
       "      <th>Adygea Republic</th>\n",
       "      <td>1716309.0</td>\n",
       "      <td>14718.0</td>\n",
       "      <td>1414363.0</td>\n",
       "    </tr>\n",
       "    <tr>\n",
       "      <th>...</th>\n",
       "      <td>...</td>\n",
       "      <td>...</td>\n",
       "      <td>...</td>\n",
       "    </tr>\n",
       "    <tr>\n",
       "      <th>Zaporizhia Oblast</th>\n",
       "      <td>5998860.0</td>\n",
       "      <td>73431.0</td>\n",
       "      <td>3423555.0</td>\n",
       "    </tr>\n",
       "    <tr>\n",
       "      <th>Zeeland</th>\n",
       "      <td>1358356.0</td>\n",
       "      <td>22797.0</td>\n",
       "      <td>0.0</td>\n",
       "    </tr>\n",
       "    <tr>\n",
       "      <th>Zhejiang</th>\n",
       "      <td>498843.0</td>\n",
       "      <td>374.0</td>\n",
       "      <td>474771.0</td>\n",
       "    </tr>\n",
       "    <tr>\n",
       "      <th>Zhytomyr Oblast</th>\n",
       "      <td>4925171.0</td>\n",
       "      <td>83343.0</td>\n",
       "      <td>3832268.0</td>\n",
       "    </tr>\n",
       "    <tr>\n",
       "      <th>Zuid-Holland</th>\n",
       "      <td>26203122.0</td>\n",
       "      <td>482479.0</td>\n",
       "      <td>0.0</td>\n",
       "    </tr>\n",
       "  </tbody>\n",
       "</table>\n",
       "<p>737 rows × 3 columns</p>\n",
       "</div>"
      ],
      "text/plain": [
       "                      Confirmed    Deaths  Recovered\n",
       "Province/State                                      \n",
       " Montreal, QC              17.0       0.0        0.0\n",
       " Norfolk County, MA         7.0       0.0        0.0\n",
       "Abruzzo               4785827.0  217392.0  2939277.0\n",
       "Acre                  8309580.0  176880.0  6773221.0\n",
       "Adygea Republic       1716309.0   14718.0  1414363.0\n",
       "...                         ...       ...        ...\n",
       "Zaporizhia Oblast     5998860.0   73431.0  3423555.0\n",
       "Zeeland               1358356.0   22797.0        0.0\n",
       "Zhejiang               498843.0     374.0   474771.0\n",
       "Zhytomyr Oblast       4925171.0   83343.0  3832268.0\n",
       "Zuid-Holland         26203122.0  482479.0        0.0\n",
       "\n",
       "[737 rows x 3 columns]"
      ]
     },
     "execution_count": 19,
     "metadata": {},
     "output_type": "execute_result"
    }
   ],
   "source": [
    "covid_19.groupby(\"Province/State\").sum().drop([\"SNo\"], axis = 1)"
   ]
  },
  {
   "cell_type": "markdown",
   "metadata": {},
   "source": [
    "#### 확진자 top 10의 완치/확진"
   ]
  },
  {
   "cell_type": "code",
   "execution_count": 20,
   "metadata": {},
   "outputs": [
    {
     "data": {
      "text/html": [
       "<div>\n",
       "<style scoped>\n",
       "    .dataframe tbody tr th:only-of-type {\n",
       "        vertical-align: middle;\n",
       "    }\n",
       "\n",
       "    .dataframe tbody tr th {\n",
       "        vertical-align: top;\n",
       "    }\n",
       "\n",
       "    .dataframe thead th {\n",
       "        text-align: right;\n",
       "    }\n",
       "</style>\n",
       "<table border=\"1\" class=\"dataframe\">\n",
       "  <thead>\n",
       "    <tr style=\"text-align: right;\">\n",
       "      <th></th>\n",
       "      <th>Confirmed</th>\n",
       "      <th>Deaths</th>\n",
       "      <th>Recovered</th>\n",
       "    </tr>\n",
       "    <tr>\n",
       "      <th>Country/Region</th>\n",
       "      <th></th>\n",
       "      <th></th>\n",
       "      <th></th>\n",
       "    </tr>\n",
       "  </thead>\n",
       "  <tbody>\n",
       "    <tr>\n",
       "      <th>France</th>\n",
       "      <td>3664050.0</td>\n",
       "      <td>85141.0</td>\n",
       "      <td>228299.0</td>\n",
       "    </tr>\n",
       "    <tr>\n",
       "      <th>UK</th>\n",
       "      <td>3653272.0</td>\n",
       "      <td>108208.0</td>\n",
       "      <td>4122.0</td>\n",
       "    </tr>\n",
       "    <tr>\n",
       "      <th>US</th>\n",
       "      <td>3563578.0</td>\n",
       "      <td>51953.0</td>\n",
       "      <td>6399531.0</td>\n",
       "    </tr>\n",
       "    <tr>\n",
       "      <th>Turkey</th>\n",
       "      <td>2693164.0</td>\n",
       "      <td>28503.0</td>\n",
       "      <td>2565723.0</td>\n",
       "    </tr>\n",
       "    <tr>\n",
       "      <th>India</th>\n",
       "      <td>2146777.0</td>\n",
       "      <td>52092.0</td>\n",
       "      <td>2020951.0</td>\n",
       "    </tr>\n",
       "    <tr>\n",
       "      <th>Argentina</th>\n",
       "      <td>2104197.0</td>\n",
       "      <td>51946.0</td>\n",
       "      <td>1899087.0</td>\n",
       "    </tr>\n",
       "    <tr>\n",
       "      <th>Brazil</th>\n",
       "      <td>2037267.0</td>\n",
       "      <td>59428.0</td>\n",
       "      <td>1805549.0</td>\n",
       "    </tr>\n",
       "    <tr>\n",
       "      <th>Poland</th>\n",
       "      <td>1696885.0</td>\n",
       "      <td>43656.0</td>\n",
       "      <td>1414461.0</td>\n",
       "    </tr>\n",
       "    <tr>\n",
       "      <th>Iran</th>\n",
       "      <td>1623159.0</td>\n",
       "      <td>59980.0</td>\n",
       "      <td>1386534.0</td>\n",
       "    </tr>\n",
       "    <tr>\n",
       "      <th>South Africa</th>\n",
       "      <td>1512225.0</td>\n",
       "      <td>49941.0</td>\n",
       "      <td>1429047.0</td>\n",
       "    </tr>\n",
       "  </tbody>\n",
       "</table>\n",
       "</div>"
      ],
      "text/plain": [
       "                Confirmed    Deaths  Recovered\n",
       "Country/Region                                \n",
       "France          3664050.0   85141.0   228299.0\n",
       "UK              3653272.0  108208.0     4122.0\n",
       "US              3563578.0   51953.0  6399531.0\n",
       "Turkey          2693164.0   28503.0  2565723.0\n",
       "India           2146777.0   52092.0  2020951.0\n",
       "Argentina       2104197.0   51946.0  1899087.0\n",
       "Brazil          2037267.0   59428.0  1805549.0\n",
       "Poland          1696885.0   43656.0  1414461.0\n",
       "Iran            1623159.0   59980.0  1386534.0\n",
       "South Africa    1512225.0   49941.0  1429047.0"
      ]
     },
     "execution_count": 20,
     "metadata": {},
     "output_type": "execute_result"
    }
   ],
   "source": [
    "covid_country_top10 = covid_country.sort_values(\"Confirmed\", ascending = False).iloc[:10, :]\n",
    "covid_country_top10"
   ]
  },
  {
   "cell_type": "code",
   "execution_count": 21,
   "metadata": {},
   "outputs": [
    {
     "data": {
      "text/html": [
       "<div>\n",
       "<style scoped>\n",
       "    .dataframe tbody tr th:only-of-type {\n",
       "        vertical-align: middle;\n",
       "    }\n",
       "\n",
       "    .dataframe tbody tr th {\n",
       "        vertical-align: top;\n",
       "    }\n",
       "\n",
       "    .dataframe thead th {\n",
       "        text-align: right;\n",
       "    }\n",
       "</style>\n",
       "<table border=\"1\" class=\"dataframe\">\n",
       "  <thead>\n",
       "    <tr style=\"text-align: right;\">\n",
       "      <th></th>\n",
       "      <th>Confirmed</th>\n",
       "      <th>Deaths</th>\n",
       "      <th>Recovered</th>\n",
       "      <th>recover/confirm</th>\n",
       "    </tr>\n",
       "    <tr>\n",
       "      <th>Country/Region</th>\n",
       "      <th></th>\n",
       "      <th></th>\n",
       "      <th></th>\n",
       "      <th></th>\n",
       "    </tr>\n",
       "  </thead>\n",
       "  <tbody>\n",
       "    <tr>\n",
       "      <th>France</th>\n",
       "      <td>3664050.0</td>\n",
       "      <td>85141.0</td>\n",
       "      <td>228299.0</td>\n",
       "      <td>0.062308</td>\n",
       "    </tr>\n",
       "    <tr>\n",
       "      <th>UK</th>\n",
       "      <td>3653272.0</td>\n",
       "      <td>108208.0</td>\n",
       "      <td>4122.0</td>\n",
       "      <td>0.001128</td>\n",
       "    </tr>\n",
       "    <tr>\n",
       "      <th>US</th>\n",
       "      <td>3563578.0</td>\n",
       "      <td>51953.0</td>\n",
       "      <td>6399531.0</td>\n",
       "      <td>1.795816</td>\n",
       "    </tr>\n",
       "    <tr>\n",
       "      <th>Turkey</th>\n",
       "      <td>2693164.0</td>\n",
       "      <td>28503.0</td>\n",
       "      <td>2565723.0</td>\n",
       "      <td>0.952680</td>\n",
       "    </tr>\n",
       "    <tr>\n",
       "      <th>India</th>\n",
       "      <td>2146777.0</td>\n",
       "      <td>52092.0</td>\n",
       "      <td>2020951.0</td>\n",
       "      <td>0.941388</td>\n",
       "    </tr>\n",
       "    <tr>\n",
       "      <th>Argentina</th>\n",
       "      <td>2104197.0</td>\n",
       "      <td>51946.0</td>\n",
       "      <td>1899087.0</td>\n",
       "      <td>0.902523</td>\n",
       "    </tr>\n",
       "    <tr>\n",
       "      <th>Brazil</th>\n",
       "      <td>2037267.0</td>\n",
       "      <td>59428.0</td>\n",
       "      <td>1805549.0</td>\n",
       "      <td>0.886260</td>\n",
       "    </tr>\n",
       "    <tr>\n",
       "      <th>Poland</th>\n",
       "      <td>1696885.0</td>\n",
       "      <td>43656.0</td>\n",
       "      <td>1414461.0</td>\n",
       "      <td>0.833563</td>\n",
       "    </tr>\n",
       "    <tr>\n",
       "      <th>Iran</th>\n",
       "      <td>1623159.0</td>\n",
       "      <td>59980.0</td>\n",
       "      <td>1386534.0</td>\n",
       "      <td>0.854219</td>\n",
       "    </tr>\n",
       "    <tr>\n",
       "      <th>South Africa</th>\n",
       "      <td>1512225.0</td>\n",
       "      <td>49941.0</td>\n",
       "      <td>1429047.0</td>\n",
       "      <td>0.944996</td>\n",
       "    </tr>\n",
       "  </tbody>\n",
       "</table>\n",
       "</div>"
      ],
      "text/plain": [
       "                Confirmed    Deaths  Recovered  recover/confirm\n",
       "Country/Region                                                 \n",
       "France          3664050.0   85141.0   228299.0         0.062308\n",
       "UK              3653272.0  108208.0     4122.0         0.001128\n",
       "US              3563578.0   51953.0  6399531.0         1.795816\n",
       "Turkey          2693164.0   28503.0  2565723.0         0.952680\n",
       "India           2146777.0   52092.0  2020951.0         0.941388\n",
       "Argentina       2104197.0   51946.0  1899087.0         0.902523\n",
       "Brazil          2037267.0   59428.0  1805549.0         0.886260\n",
       "Poland          1696885.0   43656.0  1414461.0         0.833563\n",
       "Iran            1623159.0   59980.0  1386534.0         0.854219\n",
       "South Africa    1512225.0   49941.0  1429047.0         0.944996"
      ]
     },
     "execution_count": 21,
     "metadata": {},
     "output_type": "execute_result"
    }
   ],
   "source": [
    "covid_country_top10[\"recover/confirm\"] = covid_country_top10[\"Recovered\"]/covid_country_top10[\"Confirmed\"]\n",
    "covid_country_top10"
   ]
  },
  {
   "cell_type": "code",
   "execution_count": 48,
   "metadata": {},
   "outputs": [
    {
     "data": {
      "text/html": [
       "<div>\n",
       "<style scoped>\n",
       "    .dataframe tbody tr th:only-of-type {\n",
       "        vertical-align: middle;\n",
       "    }\n",
       "\n",
       "    .dataframe tbody tr th {\n",
       "        vertical-align: top;\n",
       "    }\n",
       "\n",
       "    .dataframe thead th {\n",
       "        text-align: right;\n",
       "    }\n",
       "</style>\n",
       "<table border=\"1\" class=\"dataframe\">\n",
       "  <thead>\n",
       "    <tr style=\"text-align: right;\">\n",
       "      <th></th>\n",
       "      <th>SNo</th>\n",
       "      <th>Confirmed</th>\n",
       "      <th>Deaths</th>\n",
       "      <th>Recovered</th>\n",
       "      <th>recover/confirm</th>\n",
       "    </tr>\n",
       "    <tr>\n",
       "      <th>ObservationDate</th>\n",
       "      <th></th>\n",
       "      <th></th>\n",
       "      <th></th>\n",
       "      <th></th>\n",
       "      <th></th>\n",
       "    </tr>\n",
       "  </thead>\n",
       "  <tbody>\n",
       "    <tr>\n",
       "      <th>2020-01-24</th>\n",
       "      <td>125</td>\n",
       "      <td>2.0</td>\n",
       "      <td>0.0</td>\n",
       "      <td>0.0</td>\n",
       "      <td>0.000000</td>\n",
       "    </tr>\n",
       "    <tr>\n",
       "      <th>2020-01-25</th>\n",
       "      <td>166</td>\n",
       "      <td>3.0</td>\n",
       "      <td>0.0</td>\n",
       "      <td>0.0</td>\n",
       "      <td>0.000000</td>\n",
       "    </tr>\n",
       "    <tr>\n",
       "      <th>2020-01-26</th>\n",
       "      <td>212</td>\n",
       "      <td>3.0</td>\n",
       "      <td>0.0</td>\n",
       "      <td>0.0</td>\n",
       "      <td>0.000000</td>\n",
       "    </tr>\n",
       "    <tr>\n",
       "      <th>2020-01-27</th>\n",
       "      <td>259</td>\n",
       "      <td>3.0</td>\n",
       "      <td>0.0</td>\n",
       "      <td>0.0</td>\n",
       "      <td>0.000000</td>\n",
       "    </tr>\n",
       "    <tr>\n",
       "      <th>2020-01-28</th>\n",
       "      <td>310</td>\n",
       "      <td>4.0</td>\n",
       "      <td>0.0</td>\n",
       "      <td>0.0</td>\n",
       "      <td>0.000000</td>\n",
       "    </tr>\n",
       "    <tr>\n",
       "      <th>...</th>\n",
       "      <td>...</td>\n",
       "      <td>...</td>\n",
       "      <td>...</td>\n",
       "      <td>...</td>\n",
       "      <td>...</td>\n",
       "    </tr>\n",
       "    <tr>\n",
       "      <th>2021-02-23</th>\n",
       "      <td>2792080</td>\n",
       "      <td>3689534.0</td>\n",
       "      <td>85195.0</td>\n",
       "      <td>258863.0</td>\n",
       "      <td>0.070161</td>\n",
       "    </tr>\n",
       "    <tr>\n",
       "      <th>2021-02-24</th>\n",
       "      <td>2801248</td>\n",
       "      <td>3721061.0</td>\n",
       "      <td>85473.0</td>\n",
       "      <td>260230.0</td>\n",
       "      <td>0.069934</td>\n",
       "    </tr>\n",
       "    <tr>\n",
       "      <th>2021-02-25</th>\n",
       "      <td>2810416</td>\n",
       "      <td>3746475.0</td>\n",
       "      <td>85734.0</td>\n",
       "      <td>261648.0</td>\n",
       "      <td>0.069838</td>\n",
       "    </tr>\n",
       "    <tr>\n",
       "      <th>2021-02-26</th>\n",
       "      <td>2819584</td>\n",
       "      <td>3746707.0</td>\n",
       "      <td>85738.0</td>\n",
       "      <td>261649.0</td>\n",
       "      <td>0.069834</td>\n",
       "    </tr>\n",
       "    <tr>\n",
       "      <th>2021-02-27</th>\n",
       "      <td>2828752</td>\n",
       "      <td>3747263.0</td>\n",
       "      <td>85741.0</td>\n",
       "      <td>261649.0</td>\n",
       "      <td>0.069824</td>\n",
       "    </tr>\n",
       "  </tbody>\n",
       "</table>\n",
       "<p>401 rows × 5 columns</p>\n",
       "</div>"
      ],
      "text/plain": [
       "                     SNo  Confirmed   Deaths  Recovered  recover/confirm\n",
       "ObservationDate                                                         \n",
       "2020-01-24           125        2.0      0.0        0.0         0.000000\n",
       "2020-01-25           166        3.0      0.0        0.0         0.000000\n",
       "2020-01-26           212        3.0      0.0        0.0         0.000000\n",
       "2020-01-27           259        3.0      0.0        0.0         0.000000\n",
       "2020-01-28           310        4.0      0.0        0.0         0.000000\n",
       "...                  ...        ...      ...        ...              ...\n",
       "2021-02-23       2792080  3689534.0  85195.0   258863.0         0.070161\n",
       "2021-02-24       2801248  3721061.0  85473.0   260230.0         0.069934\n",
       "2021-02-25       2810416  3746475.0  85734.0   261648.0         0.069838\n",
       "2021-02-26       2819584  3746707.0  85738.0   261649.0         0.069834\n",
       "2021-02-27       2828752  3747263.0  85741.0   261649.0         0.069824\n",
       "\n",
       "[401 rows x 5 columns]"
      ]
     },
     "execution_count": 48,
     "metadata": {},
     "output_type": "execute_result"
    }
   ],
   "source": [
    "covid_france = covid_19[covid_19[\"Country/Region\"] == \"France\"].groupby(\"ObservationDate\").sum()\n",
    "covid_france[\"recover/confirm\"] = covid_france[\"Recovered\"]/covid_france[\"Confirmed\"]\n",
    "covid_france"
   ]
  },
  {
   "cell_type": "code",
   "execution_count": 47,
   "metadata": {},
   "outputs": [
    {
     "data": {
      "text/html": [
       "<div>\n",
       "<style scoped>\n",
       "    .dataframe tbody tr th:only-of-type {\n",
       "        vertical-align: middle;\n",
       "    }\n",
       "\n",
       "    .dataframe tbody tr th {\n",
       "        vertical-align: top;\n",
       "    }\n",
       "\n",
       "    .dataframe thead th {\n",
       "        text-align: right;\n",
       "    }\n",
       "</style>\n",
       "<table border=\"1\" class=\"dataframe\">\n",
       "  <thead>\n",
       "    <tr style=\"text-align: right;\">\n",
       "      <th></th>\n",
       "      <th>SNo</th>\n",
       "      <th>Confirmed</th>\n",
       "      <th>Deaths</th>\n",
       "      <th>Recovered</th>\n",
       "      <th>recover/confirm</th>\n",
       "    </tr>\n",
       "    <tr>\n",
       "      <th>ObservationDate</th>\n",
       "      <th></th>\n",
       "      <th></th>\n",
       "      <th></th>\n",
       "      <th></th>\n",
       "      <th></th>\n",
       "    </tr>\n",
       "  </thead>\n",
       "  <tbody>\n",
       "    <tr>\n",
       "      <th>2020-01-31</th>\n",
       "      <td>482</td>\n",
       "      <td>2.0</td>\n",
       "      <td>0.0</td>\n",
       "      <td>0.0</td>\n",
       "      <td>0.000000</td>\n",
       "    </tr>\n",
       "    <tr>\n",
       "      <th>2020-02-01</th>\n",
       "      <td>542</td>\n",
       "      <td>2.0</td>\n",
       "      <td>0.0</td>\n",
       "      <td>0.0</td>\n",
       "      <td>0.000000</td>\n",
       "    </tr>\n",
       "    <tr>\n",
       "      <th>2020-02-02</th>\n",
       "      <td>612</td>\n",
       "      <td>2.0</td>\n",
       "      <td>0.0</td>\n",
       "      <td>0.0</td>\n",
       "      <td>0.000000</td>\n",
       "    </tr>\n",
       "    <tr>\n",
       "      <th>2020-02-03</th>\n",
       "      <td>679</td>\n",
       "      <td>2.0</td>\n",
       "      <td>0.0</td>\n",
       "      <td>0.0</td>\n",
       "      <td>0.000000</td>\n",
       "    </tr>\n",
       "    <tr>\n",
       "      <th>2020-02-04</th>\n",
       "      <td>747</td>\n",
       "      <td>2.0</td>\n",
       "      <td>0.0</td>\n",
       "      <td>0.0</td>\n",
       "      <td>0.000000</td>\n",
       "    </tr>\n",
       "    <tr>\n",
       "      <th>...</th>\n",
       "      <td>...</td>\n",
       "      <td>...</td>\n",
       "      <td>...</td>\n",
       "      <td>...</td>\n",
       "      <td>...</td>\n",
       "    </tr>\n",
       "    <tr>\n",
       "      <th>2021-02-23</th>\n",
       "      <td>3722092</td>\n",
       "      <td>4146760.0</td>\n",
       "      <td>121536.0</td>\n",
       "      <td>11457.0</td>\n",
       "      <td>0.002763</td>\n",
       "    </tr>\n",
       "    <tr>\n",
       "      <th>2021-02-24</th>\n",
       "      <td>3734316</td>\n",
       "      <td>4156707.0</td>\n",
       "      <td>121979.0</td>\n",
       "      <td>11474.0</td>\n",
       "      <td>0.002760</td>\n",
       "    </tr>\n",
       "    <tr>\n",
       "      <th>2021-02-25</th>\n",
       "      <td>3746540</td>\n",
       "      <td>4166727.0</td>\n",
       "      <td>122303.0</td>\n",
       "      <td>11504.0</td>\n",
       "      <td>0.002761</td>\n",
       "    </tr>\n",
       "    <tr>\n",
       "      <th>2021-02-26</th>\n",
       "      <td>3758764</td>\n",
       "      <td>4175315.0</td>\n",
       "      <td>122648.0</td>\n",
       "      <td>11579.0</td>\n",
       "      <td>0.002773</td>\n",
       "    </tr>\n",
       "    <tr>\n",
       "      <th>2021-02-27</th>\n",
       "      <td>3770988</td>\n",
       "      <td>4182772.0</td>\n",
       "      <td>122939.0</td>\n",
       "      <td>11602.0</td>\n",
       "      <td>0.002774</td>\n",
       "    </tr>\n",
       "  </tbody>\n",
       "</table>\n",
       "<p>394 rows × 5 columns</p>\n",
       "</div>"
      ],
      "text/plain": [
       "                     SNo  Confirmed    Deaths  Recovered  recover/confirm\n",
       "ObservationDate                                                          \n",
       "2020-01-31           482        2.0       0.0        0.0         0.000000\n",
       "2020-02-01           542        2.0       0.0        0.0         0.000000\n",
       "2020-02-02           612        2.0       0.0        0.0         0.000000\n",
       "2020-02-03           679        2.0       0.0        0.0         0.000000\n",
       "2020-02-04           747        2.0       0.0        0.0         0.000000\n",
       "...                  ...        ...       ...        ...              ...\n",
       "2021-02-23       3722092  4146760.0  121536.0    11457.0         0.002763\n",
       "2021-02-24       3734316  4156707.0  121979.0    11474.0         0.002760\n",
       "2021-02-25       3746540  4166727.0  122303.0    11504.0         0.002761\n",
       "2021-02-26       3758764  4175315.0  122648.0    11579.0         0.002773\n",
       "2021-02-27       3770988  4182772.0  122939.0    11602.0         0.002774\n",
       "\n",
       "[394 rows x 5 columns]"
      ]
     },
     "execution_count": 47,
     "metadata": {},
     "output_type": "execute_result"
    }
   ],
   "source": [
    "covid_uk = covid_19[covid_19[\"Country/Region\"] == \"UK\"].groupby(\"ObservationDate\").sum()\n",
    "covid_uk[\"recover/confirm\"] = covid_uk[\"Recovered\"]/covid_uk[\"Confirmed\"]\n",
    "covid_uk"
   ]
  },
  {
   "cell_type": "code",
   "execution_count": 46,
   "metadata": {
    "scrolled": false
   },
   "outputs": [
    {
     "data": {
      "text/html": [
       "<div>\n",
       "<style scoped>\n",
       "    .dataframe tbody tr th:only-of-type {\n",
       "        vertical-align: middle;\n",
       "    }\n",
       "\n",
       "    .dataframe tbody tr th {\n",
       "        vertical-align: top;\n",
       "    }\n",
       "\n",
       "    .dataframe thead th {\n",
       "        text-align: right;\n",
       "    }\n",
       "</style>\n",
       "<table border=\"1\" class=\"dataframe\">\n",
       "  <thead>\n",
       "    <tr style=\"text-align: right;\">\n",
       "      <th></th>\n",
       "      <th>SNo</th>\n",
       "      <th>Confirmed</th>\n",
       "      <th>Deaths</th>\n",
       "      <th>Recovered</th>\n",
       "      <th>recover/confirm</th>\n",
       "    </tr>\n",
       "    <tr>\n",
       "      <th>ObservationDate</th>\n",
       "      <th></th>\n",
       "      <th></th>\n",
       "      <th></th>\n",
       "      <th></th>\n",
       "      <th></th>\n",
       "    </tr>\n",
       "  </thead>\n",
       "  <tbody>\n",
       "    <tr>\n",
       "      <th>2020-03-11</th>\n",
       "      <td>4916</td>\n",
       "      <td>1.0</td>\n",
       "      <td>0.0</td>\n",
       "      <td>0.0</td>\n",
       "      <td>0.000000</td>\n",
       "    </tr>\n",
       "    <tr>\n",
       "      <th>2020-03-12</th>\n",
       "      <td>5136</td>\n",
       "      <td>1.0</td>\n",
       "      <td>0.0</td>\n",
       "      <td>0.0</td>\n",
       "      <td>0.000000</td>\n",
       "    </tr>\n",
       "    <tr>\n",
       "      <th>2020-03-13</th>\n",
       "      <td>5234</td>\n",
       "      <td>5.0</td>\n",
       "      <td>0.0</td>\n",
       "      <td>0.0</td>\n",
       "      <td>0.000000</td>\n",
       "    </tr>\n",
       "    <tr>\n",
       "      <th>2020-03-14</th>\n",
       "      <td>5563</td>\n",
       "      <td>5.0</td>\n",
       "      <td>0.0</td>\n",
       "      <td>0.0</td>\n",
       "      <td>0.000000</td>\n",
       "    </tr>\n",
       "    <tr>\n",
       "      <th>2020-03-15</th>\n",
       "      <td>5812</td>\n",
       "      <td>6.0</td>\n",
       "      <td>0.0</td>\n",
       "      <td>0.0</td>\n",
       "      <td>0.000000</td>\n",
       "    </tr>\n",
       "    <tr>\n",
       "      <th>...</th>\n",
       "      <td>...</td>\n",
       "      <td>...</td>\n",
       "      <td>...</td>\n",
       "      <td>...</td>\n",
       "      <td>...</td>\n",
       "    </tr>\n",
       "    <tr>\n",
       "      <th>2021-02-23</th>\n",
       "      <td>232357</td>\n",
       "      <td>2655633.0</td>\n",
       "      <td>28213.0</td>\n",
       "      <td>2534996.0</td>\n",
       "      <td>0.954573</td>\n",
       "    </tr>\n",
       "    <tr>\n",
       "      <th>2021-02-24</th>\n",
       "      <td>233121</td>\n",
       "      <td>2665194.0</td>\n",
       "      <td>28285.0</td>\n",
       "      <td>2540293.0</td>\n",
       "      <td>0.953136</td>\n",
       "    </tr>\n",
       "    <tr>\n",
       "      <th>2021-02-25</th>\n",
       "      <td>233885</td>\n",
       "      <td>2674766.0</td>\n",
       "      <td>28358.0</td>\n",
       "      <td>2546503.0</td>\n",
       "      <td>0.952047</td>\n",
       "    </tr>\n",
       "    <tr>\n",
       "      <th>2021-02-26</th>\n",
       "      <td>234649</td>\n",
       "      <td>2683971.0</td>\n",
       "      <td>28432.0</td>\n",
       "      <td>2556785.0</td>\n",
       "      <td>0.952613</td>\n",
       "    </tr>\n",
       "    <tr>\n",
       "      <th>2021-02-27</th>\n",
       "      <td>235413</td>\n",
       "      <td>2693164.0</td>\n",
       "      <td>28503.0</td>\n",
       "      <td>2565723.0</td>\n",
       "      <td>0.952680</td>\n",
       "    </tr>\n",
       "  </tbody>\n",
       "</table>\n",
       "<p>354 rows × 5 columns</p>\n",
       "</div>"
      ],
      "text/plain": [
       "                    SNo  Confirmed   Deaths  Recovered  recover/confirm\n",
       "ObservationDate                                                        \n",
       "2020-03-11         4916        1.0      0.0        0.0         0.000000\n",
       "2020-03-12         5136        1.0      0.0        0.0         0.000000\n",
       "2020-03-13         5234        5.0      0.0        0.0         0.000000\n",
       "2020-03-14         5563        5.0      0.0        0.0         0.000000\n",
       "2020-03-15         5812        6.0      0.0        0.0         0.000000\n",
       "...                 ...        ...      ...        ...              ...\n",
       "2021-02-23       232357  2655633.0  28213.0  2534996.0         0.954573\n",
       "2021-02-24       233121  2665194.0  28285.0  2540293.0         0.953136\n",
       "2021-02-25       233885  2674766.0  28358.0  2546503.0         0.952047\n",
       "2021-02-26       234649  2683971.0  28432.0  2556785.0         0.952613\n",
       "2021-02-27       235413  2693164.0  28503.0  2565723.0         0.952680\n",
       "\n",
       "[354 rows x 5 columns]"
      ]
     },
     "execution_count": 46,
     "metadata": {},
     "output_type": "execute_result"
    }
   ],
   "source": [
    "covid_turkey = covid_19[covid_19[\"Country/Region\"] == \"Turkey\"].groupby(\"ObservationDate\").sum()\n",
    "covid_turkey[\"recover/confirm\"] = covid_turkey[\"Recovered\"]/covid_turkey[\"Confirmed\"]\n",
    "covid_turkey"
   ]
  },
  {
   "cell_type": "code",
   "execution_count": 50,
   "metadata": {
    "scrolled": false
   },
   "outputs": [
    {
     "data": {
      "text/plain": [
       "(array([737791., 737798., 737805., 737812., 737822., 737829., 737836.,\n",
       "        737843., 737850.]),\n",
       " <a list of 9 Text major ticklabel objects>)"
      ]
     },
     "execution_count": 50,
     "metadata": {},
     "output_type": "execute_result"
    },
    {
     "data": {
      "image/png": "[encoded data removed]",
      "text/plain": [
       "<Figure size 432x288 with 1 Axes>"
      ]
     },
     "metadata": {
      "needs_background": "light"
     },
     "output_type": "display_data"
    }
   ],
   "source": [
    "plt.plot(covid_uk.index[-58:], covid_france[\"recover/confirm\"][-58:])\n",
    "plt.plot(covid_uk.index[-58:], covid_uk[\"recover/confirm\"][-58:])\n",
    "plt.plot(covid_uk.index[-58:], covid_turkey[\"recover/confirm\"][-58:])\n",
    "plt.xticks(rotation = 90)"
   ]
  },
  {
   "cell_type": "code",
   "execution_count": 52,
   "metadata": {},
   "outputs": [
    {
     "data": {
      "text/plain": [
       "(array([737791., 737798., 737805., 737812., 737822., 737829., 737836.,\n",
       "        737843., 737850.]),\n",
       " <a list of 9 Text major ticklabel objects>)"
      ]
     },
     "execution_count": 52,
     "metadata": {},
     "output_type": "execute_result"
    },
    {
     "data": {
      "image/png": "[encoded data removed]",
      "text/plain": [
       "<Figure size 432x288 with 1 Axes>"
      ]
     },
     "metadata": {
      "needs_background": "light"
     },
     "output_type": "display_data"
    }
   ],
   "source": [
    "plt.plot(covid_uk.index[-58:], covid_france[\"recover/confirm\"][-58:])\n",
    "plt.xticks(rotation = 90)"
   ]
  },
  {
   "cell_type": "code",
   "execution_count": 53,
   "metadata": {},
   "outputs": [
    {
     "data": {
      "text/plain": [
       "(array([737791., 737798., 737805., 737812., 737822., 737829., 737836.,\n",
       "        737843., 737850.]),\n",
       " <a list of 9 Text major ticklabel objects>)"
      ]
     },
     "execution_count": 53,
     "metadata": {},
     "output_type": "execute_result"
    },
    {
     "data": {
      "image/png": "[encoded data removed]",
      "text/plain": [
       "<Figure size 432x288 with 1 Axes>"
      ]
     },
     "metadata": {
      "needs_background": "light"
     },
     "output_type": "display_data"
    }
   ],
   "source": [
    "plt.plot(covid_uk.index[-58:], covid_uk[\"recover/confirm\"][-58:])\n",
    "plt.xticks(rotation = 90)"
   ]
  },
  {
   "cell_type": "code",
   "execution_count": 54,
   "metadata": {},
   "outputs": [
    {
     "data": {
      "text/plain": [
       "(array([737791., 737798., 737805., 737812., 737822., 737829., 737836.,\n",
       "        737843., 737850.]),\n",
       " <a list of 9 Text major ticklabel objects>)"
      ]
     },
     "execution_count": 54,
     "metadata": {},
     "output_type": "execute_result"
    },
    {
     "data": {
      "image/png": "[encoded data removed]",
      "text/plain": [
       "<Figure size 432x288 with 1 Axes>"
      ]
     },
     "metadata": {
      "needs_background": "light"
     },
     "output_type": "display_data"
    }
   ],
   "source": [
    "plt.plot(covid_uk.index[-58:], covid_turkey[\"recover/confirm\"][-58:])\n",
    "plt.xticks(rotation = 90)"
   ]
  },
  {
   "cell_type": "markdown",
   "metadata": {},
   "source": [
    "#### 확진자 top 3 국가 중 완치자/확진자 비율은 터키가 월등히 높고, 다음은 프랑스, 영국 순이다"
   ]
  },
  {
   "cell_type": "markdown",
   "metadata": {},
   "source": [
    "## [실습 문제 3]원하는 데이터셋을 하나 골라서 1) 데이터 형태와 분석목적에 맞는 plot을 골라 구현하고 2) plot을 해석하시오."
   ]
  },
  {
   "cell_type": "code",
   "execution_count": 61,
   "metadata": {},
   "outputs": [],
   "source": [
    "dia = pd.read_csv(\"./seaborn-data-sets/diamonds.csv\")"
   ]
  },
  {
   "cell_type": "code",
   "execution_count": 62,
   "metadata": {
    "scrolled": false
   },
   "outputs": [
    {
     "data": {
      "text/html": [
       "<div>\n",
       "<style scoped>\n",
       "    .dataframe tbody tr th:only-of-type {\n",
       "        vertical-align: middle;\n",
       "    }\n",
       "\n",
       "    .dataframe tbody tr th {\n",
       "        vertical-align: top;\n",
       "    }\n",
       "\n",
       "    .dataframe thead th {\n",
       "        text-align: right;\n",
       "    }\n",
       "</style>\n",
       "<table border=\"1\" class=\"dataframe\">\n",
       "  <thead>\n",
       "    <tr style=\"text-align: right;\">\n",
       "      <th></th>\n",
       "      <th>carat</th>\n",
       "      <th>cut</th>\n",
       "      <th>color</th>\n",
       "      <th>clarity</th>\n",
       "      <th>depth</th>\n",
       "      <th>table</th>\n",
       "      <th>price</th>\n",
       "      <th>x</th>\n",
       "      <th>y</th>\n",
       "      <th>z</th>\n",
       "    </tr>\n",
       "  </thead>\n",
       "  <tbody>\n",
       "    <tr>\n",
       "      <th>0</th>\n",
       "      <td>0.23</td>\n",
       "      <td>Ideal</td>\n",
       "      <td>E</td>\n",
       "      <td>SI2</td>\n",
       "      <td>61.5</td>\n",
       "      <td>55.0</td>\n",
       "      <td>326</td>\n",
       "      <td>3.95</td>\n",
       "      <td>3.98</td>\n",
       "      <td>2.43</td>\n",
       "    </tr>\n",
       "    <tr>\n",
       "      <th>1</th>\n",
       "      <td>0.21</td>\n",
       "      <td>Premium</td>\n",
       "      <td>E</td>\n",
       "      <td>SI1</td>\n",
       "      <td>59.8</td>\n",
       "      <td>61.0</td>\n",
       "      <td>326</td>\n",
       "      <td>3.89</td>\n",
       "      <td>3.84</td>\n",
       "      <td>2.31</td>\n",
       "    </tr>\n",
       "    <tr>\n",
       "      <th>2</th>\n",
       "      <td>0.23</td>\n",
       "      <td>Good</td>\n",
       "      <td>E</td>\n",
       "      <td>VS1</td>\n",
       "      <td>56.9</td>\n",
       "      <td>65.0</td>\n",
       "      <td>327</td>\n",
       "      <td>4.05</td>\n",
       "      <td>4.07</td>\n",
       "      <td>2.31</td>\n",
       "    </tr>\n",
       "    <tr>\n",
       "      <th>3</th>\n",
       "      <td>0.29</td>\n",
       "      <td>Premium</td>\n",
       "      <td>I</td>\n",
       "      <td>VS2</td>\n",
       "      <td>62.4</td>\n",
       "      <td>58.0</td>\n",
       "      <td>334</td>\n",
       "      <td>4.20</td>\n",
       "      <td>4.23</td>\n",
       "      <td>2.63</td>\n",
       "    </tr>\n",
       "    <tr>\n",
       "      <th>4</th>\n",
       "      <td>0.31</td>\n",
       "      <td>Good</td>\n",
       "      <td>J</td>\n",
       "      <td>SI2</td>\n",
       "      <td>63.3</td>\n",
       "      <td>58.0</td>\n",
       "      <td>335</td>\n",
       "      <td>4.34</td>\n",
       "      <td>4.35</td>\n",
       "      <td>2.75</td>\n",
       "    </tr>\n",
       "    <tr>\n",
       "      <th>...</th>\n",
       "      <td>...</td>\n",
       "      <td>...</td>\n",
       "      <td>...</td>\n",
       "      <td>...</td>\n",
       "      <td>...</td>\n",
       "      <td>...</td>\n",
       "      <td>...</td>\n",
       "      <td>...</td>\n",
       "      <td>...</td>\n",
       "      <td>...</td>\n",
       "    </tr>\n",
       "    <tr>\n",
       "      <th>53935</th>\n",
       "      <td>0.72</td>\n",
       "      <td>Ideal</td>\n",
       "      <td>D</td>\n",
       "      <td>SI1</td>\n",
       "      <td>60.8</td>\n",
       "      <td>57.0</td>\n",
       "      <td>2757</td>\n",
       "      <td>5.75</td>\n",
       "      <td>5.76</td>\n",
       "      <td>3.50</td>\n",
       "    </tr>\n",
       "    <tr>\n",
       "      <th>53936</th>\n",
       "      <td>0.72</td>\n",
       "      <td>Good</td>\n",
       "      <td>D</td>\n",
       "      <td>SI1</td>\n",
       "      <td>63.1</td>\n",
       "      <td>55.0</td>\n",
       "      <td>2757</td>\n",
       "      <td>5.69</td>\n",
       "      <td>5.75</td>\n",
       "      <td>3.61</td>\n",
       "    </tr>\n",
       "    <tr>\n",
       "      <th>53937</th>\n",
       "      <td>0.70</td>\n",
       "      <td>Very Good</td>\n",
       "      <td>D</td>\n",
       "      <td>SI1</td>\n",
       "      <td>62.8</td>\n",
       "      <td>60.0</td>\n",
       "      <td>2757</td>\n",
       "      <td>5.66</td>\n",
       "      <td>5.68</td>\n",
       "      <td>3.56</td>\n",
       "    </tr>\n",
       "    <tr>\n",
       "      <th>53938</th>\n",
       "      <td>0.86</td>\n",
       "      <td>Premium</td>\n",
       "      <td>H</td>\n",
       "      <td>SI2</td>\n",
       "      <td>61.0</td>\n",
       "      <td>58.0</td>\n",
       "      <td>2757</td>\n",
       "      <td>6.15</td>\n",
       "      <td>6.12</td>\n",
       "      <td>3.74</td>\n",
       "    </tr>\n",
       "    <tr>\n",
       "      <th>53939</th>\n",
       "      <td>0.75</td>\n",
       "      <td>Ideal</td>\n",
       "      <td>D</td>\n",
       "      <td>SI2</td>\n",
       "      <td>62.2</td>\n",
       "      <td>55.0</td>\n",
       "      <td>2757</td>\n",
       "      <td>5.83</td>\n",
       "      <td>5.87</td>\n",
       "      <td>3.64</td>\n",
       "    </tr>\n",
       "  </tbody>\n",
       "</table>\n",
       "<p>53940 rows × 10 columns</p>\n",
       "</div>"
      ],
      "text/plain": [
       "       carat        cut color clarity  depth  table  price     x     y     z\n",
       "0       0.23      Ideal     E     SI2   61.5   55.0    326  3.95  3.98  2.43\n",
       "1       0.21    Premium     E     SI1   59.8   61.0    326  3.89  3.84  2.31\n",
       "2       0.23       Good     E     VS1   56.9   65.0    327  4.05  4.07  2.31\n",
       "3       0.29    Premium     I     VS2   62.4   58.0    334  4.20  4.23  2.63\n",
       "4       0.31       Good     J     SI2   63.3   58.0    335  4.34  4.35  2.75\n",
       "...      ...        ...   ...     ...    ...    ...    ...   ...   ...   ...\n",
       "53935   0.72      Ideal     D     SI1   60.8   57.0   2757  5.75  5.76  3.50\n",
       "53936   0.72       Good     D     SI1   63.1   55.0   2757  5.69  5.75  3.61\n",
       "53937   0.70  Very Good     D     SI1   62.8   60.0   2757  5.66  5.68  3.56\n",
       "53938   0.86    Premium     H     SI2   61.0   58.0   2757  6.15  6.12  3.74\n",
       "53939   0.75      Ideal     D     SI2   62.2   55.0   2757  5.83  5.87  3.64\n",
       "\n",
       "[53940 rows x 10 columns]"
      ]
     },
     "execution_count": 62,
     "metadata": {},
     "output_type": "execute_result"
    }
   ],
   "source": [
    "dia"
   ]
  },
  {
   "cell_type": "markdown",
   "metadata": {},
   "source": [
    "#### carat-price graph"
   ]
  },
  {
   "cell_type": "code",
   "execution_count": 73,
   "metadata": {},
   "outputs": [
    {
     "data": {
      "text/plain": [
       "Text(0, 0.5, 'Price')"
      ]
     },
     "execution_count": 73,
     "metadata": {},
     "output_type": "execute_result"
    },
    {
     "data": {
      "image/png": "[encoded data removed]",
      "text/plain": [
       "<Figure size 1296x432 with 1 Axes>"
      ]
     },
     "metadata": {
      "needs_background": "light"
     },
     "output_type": "display_data"
    }
   ],
   "source": [
    "plt.figure(figsize = (18, 6))\n",
    "plt.plot(dia[\"carat\"], dia[\"price\"], \"bo\", alpha = 0.5)\n",
    "plt.xlabel(\"Carat\")\n",
    "plt.ylabel(\"Price\")"
   ]
  },
  {
   "cell_type": "code",
   "execution_count": 90,
   "metadata": {},
   "outputs": [],
   "source": [
    "dia_sample = dia.sample(frac=1)[:1000]"
   ]
  },
  {
   "cell_type": "markdown",
   "metadata": {},
   "source": [
    "#### carat-price (cut)"
   ]
  },
  {
   "cell_type": "code",
   "execution_count": 82,
   "metadata": {},
   "outputs": [],
   "source": [
    "dia_ideal = dia[dia[\"cut\"] == \"Ideal\"]\n",
    "dia_premium = dia[dia[\"cut\"] == \"Premium\"]\n",
    "dia_good = dia[dia[\"cut\"] == \"Good\"]\n",
    "dia_verygood = dia[dia[\"cut\"] == \"Very Good\"]\n",
    "dia_fair = dia[dia[\"cut\"] == \"Fair\"]"
   ]
  },
  {
   "cell_type": "code",
   "execution_count": 139,
   "metadata": {},
   "outputs": [
    {
     "data": {
      "image/png": "[encoded data removed]",
      "text/plain": [
       "<Figure size 720x576 with 6 Axes>"
      ]
     },
     "metadata": {
      "needs_background": "light"
     },
     "output_type": "display_data"
    }
   ],
   "source": [
    "fig, axis = plt.subplots(3, 2, figsize = (10, 8))\n",
    "plt.tight_layout()  # subplot사이 간격 변경\n",
    "\n",
    "\n",
    "ax = [None for i in range(5)]\n",
    "\n",
    "ax[0] = fig.add_subplot(axis[0, 0]) \n",
    "ax[0].plot(dia_ideal[\"carat\"], dia_ideal[\"price\"], \"bo\", alpha = 0.2)\n",
    "ax[1] = fig.add_subplot(axis[0, 1]) \n",
    "ax[1].plot(dia_premium[\"carat\"], dia_premium[\"price\"], \"ro\", alpha = 0.2)\n",
    "ax[2] = fig.add_subplot(axis[1, 0]) \n",
    "ax[2].plot(dia_good[\"carat\"], dia_good[\"price\"], \"go\", alpha = 0.2)\n",
    "ax[3] = fig.add_subplot(axis[1, 1]) \n",
    "ax[3].plot(dia_verygood[\"carat\"], dia_verygood[\"price\"], \"yo\", alpha = 0.2)\n",
    "ax[4] = fig.add_subplot(axis[2, 0]) \n",
    "ax[4].plot(dia_fair[\"carat\"], dia_fair[\"price\"], \"mo\", alpha = 0.2)\n",
    "plt.show()"
   ]
  },
  {
   "cell_type": "markdown",
   "metadata": {},
   "source": [
    "#### Depth, Table - Price"
   ]
  },
  {
   "cell_type": "code",
   "execution_count": 135,
   "metadata": {},
   "outputs": [
    {
     "data": {
      "text/plain": [
       "Text(0, 0.5, 'Price')"
      ]
     },
     "execution_count": 135,
     "metadata": {},
     "output_type": "execute_result"
    },
    {
     "data": {
      "image/png": "[encoded data removed]",
      "text/plain": [
       "<Figure size 576x432 with 1 Axes>"
      ]
     },
     "metadata": {
      "needs_background": "light"
     },
     "output_type": "display_data"
    }
   ],
   "source": [
    "plt.figure(figsize = (8, 6))\n",
    "plt.plot(dia[\"depth\"], dia[\"price\"], \"bo\", alpha = 0.5)\n",
    "plt.xlabel(\"Depth\")\n",
    "plt.ylabel(\"Price\")"
   ]
  },
  {
   "cell_type": "code",
   "execution_count": 134,
   "metadata": {},
   "outputs": [
    {
     "data": {
      "text/plain": [
       "Text(0, 0.5, 'Price')"
      ]
     },
     "execution_count": 134,
     "metadata": {},
     "output_type": "execute_result"
    },
    {
     "data": {
      "image/png": "[encoded data removed]",
      "text/plain": [
       "<Figure size 576x432 with 1 Axes>"
      ]
     },
     "metadata": {
      "needs_background": "light"
     },
     "output_type": "display_data"
    }
   ],
   "source": [
    "plt.figure(figsize = (8, 6))\n",
    "plt.plot(dia[\"table\"], dia[\"price\"], \"bo\", alpha = 0.5)\n",
    "plt.xlabel(\"Table\")\n",
    "plt.ylabel(\"Price\")"
   ]
  },
  {
   "cell_type": "markdown",
   "metadata": {},
   "source": [
    "#### Depth x Table - Price"
   ]
  },
  {
   "cell_type": "code",
   "execution_count": 125,
   "metadata": {},
   "outputs": [],
   "source": [
    "dia_1 = dia\n",
    "dia_1[\"depth x table\"] = dia_1[\"depth\"] * dia_1[\"table\"]"
   ]
  },
  {
   "cell_type": "code",
   "execution_count": 133,
   "metadata": {},
   "outputs": [
    {
     "data": {
      "text/plain": [
       "Text(0, 0.5, 'Price')"
      ]
     },
     "execution_count": 133,
     "metadata": {},
     "output_type": "execute_result"
    },
    {
     "data": {
      "image/png": "[encoded data removed]",
      "text/plain": [
       "<Figure size 576x432 with 1 Axes>"
      ]
     },
     "metadata": {
      "needs_background": "light"
     },
     "output_type": "display_data"
    }
   ],
   "source": [
    "plt.figure(figsize = (8, 6))\n",
    "plt.plot(dia_1[\"depth x table\"], dia_1[\"price\"], \"bo\", alpha = 0.5)\n",
    "plt.xlabel(\"depth x table\")\n",
    "plt.ylabel(\"Price\")"
   ]
  },
  {
   "cell_type": "markdown",
   "metadata": {},
   "source": [
    "#### xyz - price"
   ]
  },
  {
   "cell_type": "code",
   "execution_count": 132,
   "metadata": {},
   "outputs": [
    {
     "data": {
      "image/png": "[encoded data removed]",
      "text/plain": [
       "<Figure size 576x432 with 1 Axes>"
      ]
     },
     "metadata": {
      "needs_background": "light"
     },
     "output_type": "display_data"
    }
   ],
   "source": [
    "dia_1[\"xyz\"] = dia_1[\"x\"] * dia_1[\"y\"] * dia_1[\"z\"]\n",
    "\n",
    "plt.figure(figsize = (8, 6))\n",
    "plt.plot(dia_1[\"xyz\"], dia_1[\"price\"], \"bo\", alpha = 0.5)\n",
    "plt.xlabel(\"xyz\")\n",
    "plt.ylabel(\"Price\")\n",
    "\n",
    "plt.show()"
   ]
  },
  {
   "cell_type": "code",
   "execution_count": 122,
   "metadata": {
    "scrolled": true
   },
   "outputs": [
    {
     "data": {
      "text/html": [
       "<div>\n",
       "<style scoped>\n",
       "    .dataframe tbody tr th:only-of-type {\n",
       "        vertical-align: middle;\n",
       "    }\n",
       "\n",
       "    .dataframe tbody tr th {\n",
       "        vertical-align: top;\n",
       "    }\n",
       "\n",
       "    .dataframe thead th {\n",
       "        text-align: right;\n",
       "    }\n",
       "</style>\n",
       "<table border=\"1\" class=\"dataframe\">\n",
       "  <thead>\n",
       "    <tr style=\"text-align: right;\">\n",
       "      <th></th>\n",
       "      <th>carat</th>\n",
       "      <th>depth</th>\n",
       "      <th>table</th>\n",
       "      <th>price</th>\n",
       "      <th>x</th>\n",
       "      <th>y</th>\n",
       "      <th>z</th>\n",
       "    </tr>\n",
       "  </thead>\n",
       "  <tbody>\n",
       "    <tr>\n",
       "      <th>count</th>\n",
       "      <td>1000.000000</td>\n",
       "      <td>1000.000000</td>\n",
       "      <td>1000.000000</td>\n",
       "      <td>1000.000000</td>\n",
       "      <td>1000.000000</td>\n",
       "      <td>1000.000000</td>\n",
       "      <td>1000.00000</td>\n",
       "    </tr>\n",
       "    <tr>\n",
       "      <th>mean</th>\n",
       "      <td>0.791270</td>\n",
       "      <td>61.689500</td>\n",
       "      <td>57.465300</td>\n",
       "      <td>3926.525000</td>\n",
       "      <td>5.715400</td>\n",
       "      <td>5.719170</td>\n",
       "      <td>3.52673</td>\n",
       "    </tr>\n",
       "    <tr>\n",
       "      <th>std</th>\n",
       "      <td>0.470314</td>\n",
       "      <td>1.347299</td>\n",
       "      <td>2.234264</td>\n",
       "      <td>4022.684513</td>\n",
       "      <td>1.124479</td>\n",
       "      <td>1.115908</td>\n",
       "      <td>0.69497</td>\n",
       "    </tr>\n",
       "    <tr>\n",
       "      <th>min</th>\n",
       "      <td>0.230000</td>\n",
       "      <td>56.100000</td>\n",
       "      <td>53.000000</td>\n",
       "      <td>340.000000</td>\n",
       "      <td>3.920000</td>\n",
       "      <td>3.900000</td>\n",
       "      <td>2.39000</td>\n",
       "    </tr>\n",
       "    <tr>\n",
       "      <th>25%</th>\n",
       "      <td>0.390000</td>\n",
       "      <td>61.000000</td>\n",
       "      <td>56.000000</td>\n",
       "      <td>939.000000</td>\n",
       "      <td>4.680000</td>\n",
       "      <td>4.700000</td>\n",
       "      <td>2.88000</td>\n",
       "    </tr>\n",
       "    <tr>\n",
       "      <th>50%</th>\n",
       "      <td>0.700000</td>\n",
       "      <td>61.800000</td>\n",
       "      <td>57.000000</td>\n",
       "      <td>2343.000000</td>\n",
       "      <td>5.690000</td>\n",
       "      <td>5.700000</td>\n",
       "      <td>3.50000</td>\n",
       "    </tr>\n",
       "    <tr>\n",
       "      <th>75%</th>\n",
       "      <td>1.040000</td>\n",
       "      <td>62.500000</td>\n",
       "      <td>59.000000</td>\n",
       "      <td>5338.750000</td>\n",
       "      <td>6.550000</td>\n",
       "      <td>6.540000</td>\n",
       "      <td>4.03250</td>\n",
       "    </tr>\n",
       "    <tr>\n",
       "      <th>max</th>\n",
       "      <td>2.670000</td>\n",
       "      <td>67.600000</td>\n",
       "      <td>67.000000</td>\n",
       "      <td>18766.000000</td>\n",
       "      <td>8.700000</td>\n",
       "      <td>8.650000</td>\n",
       "      <td>5.54000</td>\n",
       "    </tr>\n",
       "  </tbody>\n",
       "</table>\n",
       "</div>"
      ],
      "text/plain": [
       "             carat        depth        table         price            x  \\\n",
       "count  1000.000000  1000.000000  1000.000000   1000.000000  1000.000000   \n",
       "mean      0.791270    61.689500    57.465300   3926.525000     5.715400   \n",
       "std       0.470314     1.347299     2.234264   4022.684513     1.124479   \n",
       "min       0.230000    56.100000    53.000000    340.000000     3.920000   \n",
       "25%       0.390000    61.000000    56.000000    939.000000     4.680000   \n",
       "50%       0.700000    61.800000    57.000000   2343.000000     5.690000   \n",
       "75%       1.040000    62.500000    59.000000   5338.750000     6.550000   \n",
       "max       2.670000    67.600000    67.000000  18766.000000     8.700000   \n",
       "\n",
       "                 y           z  \n",
       "count  1000.000000  1000.00000  \n",
       "mean      5.719170     3.52673  \n",
       "std       1.115908     0.69497  \n",
       "min       3.900000     2.39000  \n",
       "25%       4.700000     2.88000  \n",
       "50%       5.700000     3.50000  \n",
       "75%       6.540000     4.03250  \n",
       "max       8.650000     5.54000  "
      ]
     },
     "execution_count": 122,
     "metadata": {},
     "output_type": "execute_result"
    }
   ],
   "source": [
    "dia.describe()"
   ]
  },
  {
   "cell_type": "markdown",
   "metadata": {},
   "source": [
    "#### carat과 price는 양의 상관관계를 갖고, x*y*z는 price와 양의 상관관계를 갖는다. \n",
    "#### 반면 depth나 table은 price에 큰 영향력을 행사하지 못하는 것을 알 수 있다."
   ]
  },
  {
   "cell_type": "code",
   "execution_count": null,
   "metadata": {},
   "outputs": [],
   "source": []
  }
 ],
 "metadata": {
  "kernelspec": {
   "display_name": "Python 3",
   "language": "python",
   "name": "python3"
  },
  "language_info": {
   "codemirror_mode": {
    "name": "ipython",
    "version": 3
   },
   "file_extension": ".py",
   "mimetype": "text/x-python",
   "name": "python",
   "nbconvert_exporter": "python",
   "pygments_lexer": "ipython3",
   "version": "3.6.10"
  }
 },
 "nbformat": 4,
 "nbformat_minor": 4
}
