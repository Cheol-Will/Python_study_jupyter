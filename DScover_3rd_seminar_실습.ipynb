{
 "cells": [
  {
   "cell_type": "code",
   "execution_count": 1,
   "metadata": {
    "id": "aDdRgSGUIMiP"
   },
   "outputs": [],
   "source": [
    "import numpy as np\n",
    "import matplotlib.pyplot as plt\n",
    "import seaborn as sns; sns.set()"
   ]
  },
  {
   "cell_type": "code",
   "execution_count": 2,
   "metadata": {
    "id": "iZtI07bWISNB"
   },
   "outputs": [],
   "source": [
    "X = np.random.rand(100)\n",
    "Y = 0.2 * X * 0.5"
   ]
  },
  {
   "cell_type": "code",
   "execution_count": 3,
   "metadata": {
    "colab": {
     "base_uri": "https://localhost:8080/",
     "height": 374
    },
    "id": "XGNTJLQCIVTH",
    "outputId": "c324c1e9-3615-4776-b20a-2b91da906a46"
   },
   "outputs": [
    {
     "data": {
      "image/png": "[encoded data removed]",
      "text/plain": [
       "<Figure size 576x432 with 1 Axes>"
      ]
     },
     "metadata": {},
     "output_type": "display_data"
    }
   ],
   "source": [
    "plt.figure(figsize=(8,6))\n",
    "plt.scatter(X, Y)\n",
    "plt.show()"
   ]
  },
  {
   "cell_type": "code",
   "execution_count": 4,
   "metadata": {
    "id": "mdZlRKbEIi-n"
   },
   "outputs": [],
   "source": [
    "def plot_prediction(pred, y):\n",
    "    plt.figure(figsize=(8, 6))\n",
    "    plt.scatter(X, y)\n",
    "    plt.scatter(X, pred)\n",
    "    plt.show()"
   ]
  },
  {
   "cell_type": "markdown",
   "metadata": {
    "id": "xPvHGy5eI2oR"
   },
   "source": [
    "\n",
    "\n",
    "## Gradient Descent 구현"
   ]
  },
  {
   "cell_type": "markdown",
   "metadata": {
    "id": "XZWJcXbrI_60"
   },
   "source": [
    "* 업데이트할 W: Learning Rate * ((Y예측 - Y실제) * X)평균\n",
    "* 업데이트할 b: Learning Rate * ((Y예측 - Y실제) * 1)평균"
   ]
  },
  {
   "cell_type": "code",
   "execution_count": 5,
   "metadata": {
    "colab": {
     "base_uri": "https://localhost:8080/",
     "height": 1000
    },
    "id": "u-CcFHyxIwzv",
    "outputId": "b1b22847-fa55-41ea-d66e-167c91f73064"
   },
   "outputs": [
    {
     "data": {
      "image/png": "[encoded data removed]",
      "text/plain": [
       "<Figure size 576x432 with 1 Axes>"
      ]
     },
     "metadata": {},
     "output_type": "display_data"
    }
   ],
   "source": [
    "W = np.random.uniform(-1, 1)\n",
    "b = np.random.uniform(-1, 1)\n",
    "\n",
    "learning_rate = 0.1\n",
    "\n",
    "for epoch in range(700):\n",
    "    Y_Pred = W * X + b\n",
    "\n",
    "    error = np.abs(Y_Pred - Y).mean()\n",
    "    if error < 0.001:\n",
    "        break\n",
    "\n",
    "    # gradient descent 계산\n",
    "    w_grad = learning_rate * ((Y_Pred - Y)*X).mean()\n",
    "    b_grad = learning_rate * (Y_Pred - Y).mean()\n",
    "\n",
    "    # W, b 값 갱신\n",
    "    W = W - w_grad\n",
    "    b = b - b_grad\n",
    "\n",
    "    if epoch % 1 == 0:\n",
    "        Y_pred = W * X + b\n",
    "plot_prediction(Y_Pred, Y)        "
   ]
  },
  {
   "cell_type": "markdown",
   "metadata": {},
   "source": [
    "## 행렬 생성 & 행렬 곱"
   ]
  },
  {
   "cell_type": "code",
   "execution_count": 6,
   "metadata": {},
   "outputs": [
    {
     "data": {
      "text/plain": [
       "array([[ 0,  1,  2,  3],\n",
       "       [ 4,  5,  6,  7],\n",
       "       [ 8,  9, 10, 11]])"
      ]
     },
     "execution_count": 6,
     "metadata": {},
     "output_type": "execute_result"
    }
   ],
   "source": [
    "a = np.arange(12).reshape(3, 4)\n",
    "a"
   ]
  },
  {
   "cell_type": "code",
   "execution_count": 7,
   "metadata": {},
   "outputs": [
    {
     "data": {
      "text/plain": [
       "array([[0, 1],\n",
       "       [2, 3],\n",
       "       [4, 5],\n",
       "       [6, 7]])"
      ]
     },
     "execution_count": 7,
     "metadata": {},
     "output_type": "execute_result"
    }
   ],
   "source": [
    "b = np.arange(8).reshape(4, 2)\n",
    "b"
   ]
  },
  {
   "cell_type": "code",
   "execution_count": 8,
   "metadata": {},
   "outputs": [
    {
     "data": {
      "text/plain": [
       "array([[ 28,  34],\n",
       "       [ 76,  98],\n",
       "       [124, 162]])"
      ]
     },
     "execution_count": 8,
     "metadata": {},
     "output_type": "execute_result"
    }
   ],
   "source": [
    "np.matmul(a, b)"
   ]
  },
  {
   "cell_type": "code",
   "execution_count": 9,
   "metadata": {},
   "outputs": [
    {
     "data": {
      "text/plain": [
       "array([[ 28,  34],\n",
       "       [ 76,  98],\n",
       "       [124, 162]])"
      ]
     },
     "execution_count": 9,
     "metadata": {},
     "output_type": "execute_result"
    }
   ],
   "source": [
    "np.dot(a, b)"
   ]
  }
 ],
 "metadata": {
  "kernelspec": {
   "display_name": "Python 3",
   "language": "python",
   "name": "python3"
  },
  "language_info": {
   "codemirror_mode": {
    "name": "ipython",
    "version": 3
   },
   "file_extension": ".py",
   "mimetype": "text/x-python",
   "name": "python",
   "nbconvert_exporter": "python",
   "pygments_lexer": "ipython3",
   "version": "3.6.10"
  }
 },
 "nbformat": 4,
 "nbformat_minor": 4
}
